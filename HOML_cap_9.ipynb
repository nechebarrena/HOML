{
  "nbformat": 4,
  "nbformat_minor": 0,
  "metadata": {
    "colab": {
      "name": "HOML_cap_9.ipynb",
      "provenance": [],
      "authorship_tag": "ABX9TyNDmFsX6QxMF/Vq1ghX04TF",
      "include_colab_link": true
    },
    "kernelspec": {
      "name": "python3",
      "display_name": "Python 3"
    },
    "language_info": {
      "name": "python"
    }
  },
  "cells": [
    {
      "cell_type": "markdown",
      "metadata": {
        "id": "view-in-github",
        "colab_type": "text"
      },
      "source": [
        "<a href=\"https://colab.research.google.com/github/nechebarrena/HOML/blob/main/HOML_cap_9.ipynb\" target=\"_parent\"><img src=\"https://colab.research.google.com/assets/colab-badge.svg\" alt=\"Open In Colab\"/></a>"
      ]
    },
    {
      "cell_type": "markdown",
      "metadata": {
        "id": "hBoD7TK5GwND"
      },
      "source": [
        "# **CAPITULO 9 - HANDS ON MACHINE LEARNING**\n",
        "## **Aprendizaje no supervisado**\n",
        "\n",
        "Aunque buena parte de la bibliografia se enfoca en los problemas de aprendizaje supervisado, estos en realidad son minoritarios frente a los problemas donde debemos utilizar tecnicas de aprendizaje no supervisado. En general es mas facil pensar que para un conjunto de instancias $\\mathbf{X}$ no vamos a tener un conjunto de etiquetas $\\mathbf{Y}$ que le correspondan.\n",
        "\n",
        "Algunas tecnicas de aprendizaje no supervisado que podemos utilizar en general son:\n",
        "\n",
        "1. Reduccion de dimensionalidad; Tal como vimos en el capitulo $8$ la reduccion de dimensionalidad nos permite trabajar con un numero reducido de las features originales. \n",
        "\n",
        "2. Clustering; El objetivo de esta tecnica es agrupar instancias segun alguna metrica de similaridad. La idea justamente es armar clusters lo mas disjuntos posibles.\n",
        "\n",
        "3. Deteccion de anormalidades; Sirve para detectar justamente cuales son los datos \"normales\" de un determinado tipo e identificar los que estan fuera de este refimen de normalidad.\n",
        "\n",
        "4. Estimacion de densidad; La idea es poder estimar la funcion densidad de probabilidad (PDF) de una muestra de instancias. \n",
        "\n",
        "Primero vamos a ver como realizar problemas de clustering y luego vamos a ver algo en menor profundidad de los otros."
      ]
    },
    {
      "cell_type": "markdown",
      "metadata": {
        "id": "DgjExSUvNldC"
      },
      "source": [
        "## **Clustering**\n",
        "\n",
        "En general los metodos de clustering se pueden usar para un monton de propositos distintos. Pueden ser usados para reducir la dimension de los datos, para asignar etiquetas, para asignar etiquetas cuando ya contamos con algunas de ellas, etc etc.. \n",
        "\n",
        "Pero hay una pregunta que parece previa y es, ¿que es un cluster?\n",
        "\n",
        "La realidad es que no hay una definicion unica de lo que significa un cluster y segun el metodo que se use para resolver el problema se va a estar usando una definicion u otra, sin embargo intuitivamente es facil de pensar como un conjunto de instancias que comparten lo suficiente como para agruparlas entre si y son lo suficientemente distintas de otras como para separarlas de estas.\n",
        "\n",
        "El libro se propone explicar el funcionamiento de dos de los metodos principales de clustering, DBSCAN y K-means."
      ]
    },
    {
      "cell_type": "markdown",
      "metadata": {
        "id": "nrLyqKUrPcnc"
      },
      "source": [
        "## **k-Means**\n",
        "\n",
        "Para ver como funciona vamos a empezar generando un conjunto de instancias con 2 features."
      ]
    },
    {
      "cell_type": "code",
      "metadata": {
        "colab": {
          "base_uri": "https://localhost:8080/",
          "height": 373
        },
        "id": "XGwDfjG8Q68T",
        "outputId": "2af17ec8-5cb0-4706-b776-e30529bb2c0c"
      },
      "source": [
        "import numpy as np\n",
        "import matplotlib.pyplot as plt\n",
        "\n",
        "\n",
        "N = 1000\n",
        "Clusters = 6\n",
        "alfa = 100\n",
        "beta = 5\n",
        "\n",
        "x_datos = []\n",
        "np.concatenate((a, b), axis=None)\n",
        "for c in range(Clusters):\n",
        "  x0 = alfa*np.random.rand()\n",
        "  y0 = alfa*np.random.rand()\n",
        "  sigma = beta*np.random.rand()\n",
        "  x = list(np.ranndom.normal(x0,sigma,N)) \n",
        "  y = list(np.ranndom.normal(y0,sigma,N)) \n",
        "\n"
      ],
      "execution_count": 2,
      "outputs": [
        {
          "output_type": "execute_result",
          "data": {
            "text/plain": [
              "(array([ 962., 1074.,  995.,  981., 1000.,  964.,  975., 1045.,  964.,\n",
              "        1040.]),\n",
              " array([1.49714828e-04, 1.00120946e-01, 2.00092177e-01, 3.00063408e-01,\n",
              "        4.00034639e-01, 5.00005869e-01, 5.99977100e-01, 6.99948331e-01,\n",
              "        7.99919562e-01, 8.99890793e-01, 9.99862024e-01]),\n",
              " <a list of 10 Patch objects>)"
            ]
          },
          "metadata": {
            "tags": []
          },
          "execution_count": 2
        },
        {
          "output_type": "display_data",
          "data": {
            "image/png": "[encoded data removed]",
            "text/plain": [
              "<Figure size 432x288 with 1 Axes>"
            ]
          },
          "metadata": {
            "tags": [],
            "needs_background": "light"
          }
        }
      ]
    },
    {
      "cell_type": "code",
      "metadata": {
        "colab": {
          "base_uri": "https://localhost:8080/"
        },
        "id": "WjJVffzxLMfn",
        "outputId": "7d5fcbc6-546a-4c65-ddff-6223041e1f34"
      },
      "source": [
        "x = list(np.array([1,2]))\n",
        "print(type(x))"
      ],
      "execution_count": 15,
      "outputs": [
        {
          "output_type": "stream",
          "text": [
            "<class 'list'>\n"
          ],
          "name": "stdout"
        }
      ]
    }
  ]
}