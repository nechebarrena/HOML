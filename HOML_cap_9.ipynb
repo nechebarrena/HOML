{
  "nbformat": 4,
  "nbformat_minor": 0,
  "metadata": {
    "colab": {
      "name": "HOML_cap_9.ipynb",
      "provenance": [],
      "authorship_tag": "ABX9TyNWRJst6vzSQ0DfQtSfQxEE",
      "include_colab_link": true
    },
    "kernelspec": {
      "name": "python3",
      "display_name": "Python 3"
    },
    "language_info": {
      "name": "python"
    }
  },
  "cells": [
    {
      "cell_type": "markdown",
      "metadata": {
        "id": "view-in-github",
        "colab_type": "text"
      },
      "source": [
        "<a href=\"https://colab.research.google.com/github/nechebarrena/HOML/blob/main/HOML_cap_9.ipynb\" target=\"_parent\"><img src=\"https://colab.research.google.com/assets/colab-badge.svg\" alt=\"Open In Colab\"/></a>"
      ]
    },
    {
      "cell_type": "markdown",
      "metadata": {
        "id": "hBoD7TK5GwND"
      },
      "source": [
        "# **CAPITULO 9 - HANDS ON MACHINE LEARNING**\n",
        "## **Aprendizaje no supervisado**\n",
        "\n",
        "Aunque buena parte de la bibliografia se enfoca en los problemas de aprendizaje supervisado, estos en realidad son minoritarios frente a los problemas donde debemos utilizar tecnicas de aprendizaje no supervisado. En general es mas facil pensar que para un conjunto de instancias $\\mathbf{X}$ no vamos a tener un conjunto de etiquetas $\\mathbf{Y}$ que le correspondan.\n",
        "\n",
        "Algunas tecnicas de aprendizaje no supervisado que podemos utilizar en general son:\n",
        "\n",
        "1. Reduccion de dimensionalidad; Tal como vimos en el capitulo $8$ la reduccion de dimensionalidad nos permite trabajar con un numero reducido de las features originales. \n",
        "\n",
        "2. "
      ]
    }
  ]
}