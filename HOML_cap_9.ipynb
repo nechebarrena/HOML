{
  "nbformat": 4,
  "nbformat_minor": 0,
  "metadata": {
    "colab": {
      "name": "HOML_cap_9.ipynb",
      "provenance": [],
      "authorship_tag": "ABX9TyNi5ZHp7nLmiFWWnty1CN5S",
      "include_colab_link": true
    },
    "kernelspec": {
      "name": "python3",
      "display_name": "Python 3"
    },
    "language_info": {
      "name": "python"
    }
  },
  "cells": [
    {
      "cell_type": "markdown",
      "metadata": {
        "id": "view-in-github",
        "colab_type": "text"
      },
      "source": [
        "<a href=\"https://colab.research.google.com/github/nechebarrena/HOML/blob/main/HOML_cap_9.ipynb\" target=\"_parent\"><img src=\"https://colab.research.google.com/assets/colab-badge.svg\" alt=\"Open In Colab\"/></a>"
      ]
    },
    {
      "cell_type": "markdown",
      "metadata": {
        "id": "hBoD7TK5GwND"
      },
      "source": [
        "# **CAPITULO 9 - HANDS ON MACHINE LEARNING**\n",
        "## **Aprendizaje no supervisado**\n",
        "\n",
        "Aunque buena parte de la bibliografia se enfoca en los problemas de aprendizaje supervisado, estos en realidad son minoritarios frente a los problemas donde debemos utilizar tecnicas de aprendizaje no supervisado. En general es mas facil pensar que para un conjunto de instancias $\\mathbf{X}$ no vamos a tener un conjunto de etiquetas $\\mathbf{Y}$ que le correspondan.\n",
        "\n",
        "Algunas tecnicas de aprendizaje no supervisado que podemos utilizar en general son:\n",
        "\n",
        "1. Reduccion de dimensionalidad; Tal como vimos en el capitulo $8$ la reduccion de dimensionalidad nos permite trabajar con un numero reducido de las features originales. \n",
        "\n",
        "2. Clustering; El objetivo de esta tecnica es agrupar instancias segun alguna metrica de similaridad. La idea justamente es armar clusters lo mas disjuntos posibles.\n",
        "\n",
        "3. Deteccion de anormalidades; Sirve para detectar justamente cuales son los datos \"normales\" de un determinado tipo e identificar los que estan fuera de este refimen de normalidad.\n",
        "\n",
        "4. Estimacion de densidad; La idea es poder estimar la funcion densidad de probabilidad (PDF) de una muestra de instancias. \n",
        "\n",
        "Primero vamos a ver como realizar problemas de clustering y luego vamos a ver algo en menor profundidad de los otros."
      ]
    },
    {
      "cell_type": "markdown",
      "metadata": {
        "id": "DgjExSUvNldC"
      },
      "source": [
        "## **Clustering**\n",
        "\n",
        "En general los metodos de clustering se pueden usar para un monton de propositos distintos. Pueden ser usados para reducir la dimension de los datos, para asignar etiquetas, para asignar etiquetas cuando ya contamos con algunas de ellas, etc etc.. \n",
        "\n",
        "Pero hay una pregunta que parece previa y es, ¿que es un cluster?\n",
        "\n",
        "La realidad es que no hay una definicion unica de lo que significa un cluster y segun el metodo que se use para resolver el problema se va a estar usando una definicion u otra, sin embargo intuitivamente es facil de pensar como un conjunto de instancias que comparten lo suficiente como para agruparlas entre si y son lo suficientemente distintas de otras como para separarlas de estas.\n",
        "\n",
        "El libro se propone explicar el funcionamiento de dos de los metodos principales de clustering, DBSCAN y K-means."
      ]
    },
    {
      "cell_type": "markdown",
      "metadata": {
        "id": "nrLyqKUrPcnc"
      },
      "source": [
        "## **k-Means**\n",
        "\n",
        "Para ver como funciona vamos a empezar generando un conjunto de instancias con 2 features."
      ]
    },
    {
      "cell_type": "code",
      "metadata": {
        "colab": {
          "base_uri": "https://localhost:8080/",
          "height": 269
        },
        "id": "XGwDfjG8Q68T",
        "outputId": "0f0ef673-58ff-4e59-c84a-62a9937aad6a"
      },
      "source": [
        "import numpy as np\n",
        "import matplotlib.pyplot as plt\n",
        "import pandas as pd\n",
        "\n",
        "\n",
        "N = 1000\n",
        "Clusters = 6\n",
        "alfa = 100\n",
        "beta = 2\n",
        "\n",
        "x_datos = []\n",
        "y_datos = []\n",
        "\n",
        "for c in range(Clusters):\n",
        "  x0 = alfa*np.random.rand()\n",
        "  y0 = alfa*np.random.rand()\n",
        "  sigma = beta*np.random.rand()\n",
        "  x = list(np.random.normal(x0,sigma,N)) \n",
        "  y = list(np.random.normal(y0,sigma,N)) \n",
        "  x_datos = x_datos + x\n",
        "  y_datos = y_datos + y\n",
        "\n",
        "plt.scatter(x_datos,y_datos)\n",
        "\n",
        "x = pd.DataFrame()\n",
        "x[\"X\"] = x_datos\n",
        "x[\"Y\"] = y_datos"
      ],
      "execution_count": 29,
      "outputs": [
        {
          "output_type": "display_data",
          "data": {
            "image/png": "[encoded data removed]",
            "text/plain": [
              "<Figure size 432x288 with 1 Axes>"
            ]
          },
          "metadata": {
            "tags": [],
            "needs_background": "light"
          }
        }
      ]
    },
    {
      "cell_type": "markdown",
      "metadata": {
        "id": "aSp4vyVFOduq"
      },
      "source": [
        "Ahora voy a utilizar estos datos para tratar de encontrar clustes en ellos. Uso la implementacion de SkLearn."
      ]
    },
    {
      "cell_type": "code",
      "metadata": {
        "colab": {
          "base_uri": "https://localhost:8080/",
          "height": 287
        },
        "id": "WjJVffzxLMfn",
        "outputId": "454fd96d-9beb-45d9-b56d-dff8073442b7"
      },
      "source": [
        "from sklearn.cluster import KMeans\n",
        "k = Clusters\n",
        "kmeans = KMeans(n_clusters=k)\n",
        "y_pred = kmeans.fit_predict(x)\n",
        "\n",
        "\n",
        "plt.scatter(x_datos,y_datos,c=y_pred)"
      ],
      "execution_count": 30,
      "outputs": [
        {
          "output_type": "execute_result",
          "data": {
            "text/plain": [
              "<matplotlib.collections.PathCollection at 0x7f38e99ab250>"
            ]
          },
          "metadata": {
            "tags": []
          },
          "execution_count": 30
        },
        {
          "output_type": "display_data",
          "data": {
            "image/png": "[encoded data removed]",
            "text/plain": [
              "<Figure size 432x288 with 1 Axes>"
            ]
          },
          "metadata": {
            "tags": [],
            "needs_background": "light"
          }
        }
      ]
    }
  ]
}