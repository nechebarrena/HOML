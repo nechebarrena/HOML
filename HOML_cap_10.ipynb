{
  "nbformat": 4,
  "nbformat_minor": 0,
  "metadata": {
    "colab": {
      "name": "HOML_cap_10.ipynb",
      "provenance": [],
      "collapsed_sections": [],
      "authorship_tag": "ABX9TyMm1xoLCREquU19amgtTmVz",
      "include_colab_link": true
    },
    "kernelspec": {
      "name": "python3",
      "display_name": "Python 3"
    },
    "language_info": {
      "name": "python"
    }
  },
  "cells": [
    {
      "cell_type": "markdown",
      "metadata": {
        "id": "view-in-github",
        "colab_type": "text"
      },
      "source": [
        "<a href=\"https://colab.research.google.com/github/nechebarrena/HOML/blob/main/HOML_cap_10.ipynb\" target=\"_parent\"><img src=\"https://colab.research.google.com/assets/colab-badge.svg\" alt=\"Open In Colab\"/></a>"
      ]
    },
    {
      "cell_type": "markdown",
      "metadata": {
        "id": "UJdohX_0BmQD"
      },
      "source": [
        "# **CAPITULO 10 - HANDS ON MACHINE LEARNING**\n",
        "## **Una introduccion a las redes neuronales con Keras**\n",
        "\n"
      ]
    },
    {
      "cell_type": "markdown",
      "metadata": {
        "id": "y9Uva-Z_0dSh"
      },
      "source": [
        "En este capitulo vamos a introducir por primera vez la API Keras. En particular vamos a utilizar la implementacion para TensorFlow."
      ]
    },
    {
      "cell_type": "code",
      "metadata": {
        "colab": {
          "base_uri": "https://localhost:8080/"
        },
        "id": "SQGzlCky0mld",
        "outputId": "51904658-e574-4e60-b02e-eb5a0ed685cf"
      },
      "source": [
        "!python3 -m pip install --upgrade tensorflow"
      ],
      "execution_count": 1,
      "outputs": [
        {
          "output_type": "stream",
          "text": [
            "Requirement already up-to-date: tensorflow in /usr/local/lib/python3.7/dist-packages (2.5.0)\n",
            "Requirement already satisfied, skipping upgrade: six~=1.15.0 in /usr/local/lib/python3.7/dist-packages (from tensorflow) (1.15.0)\n",
            "Requirement already satisfied, skipping upgrade: gast==0.4.0 in /usr/local/lib/python3.7/dist-packages (from tensorflow) (0.4.0)\n",
            "Requirement already satisfied, skipping upgrade: keras-preprocessing~=1.1.2 in /usr/local/lib/python3.7/dist-packages (from tensorflow) (1.1.2)\n",
            "Requirement already satisfied, skipping upgrade: h5py~=3.1.0 in /usr/local/lib/python3.7/dist-packages (from tensorflow) (3.1.0)\n",
            "Requirement already satisfied, skipping upgrade: absl-py~=0.10 in /usr/local/lib/python3.7/dist-packages (from tensorflow) (0.12.0)\n",
            "Requirement already satisfied, skipping upgrade: typing-extensions~=3.7.4 in /usr/local/lib/python3.7/dist-packages (from tensorflow) (3.7.4.3)\n",
            "Requirement already satisfied, skipping upgrade: tensorflow-estimator<2.6.0,>=2.5.0rc0 in /usr/local/lib/python3.7/dist-packages (from tensorflow) (2.5.0)\n",
            "Requirement already satisfied, skipping upgrade: tensorboard~=2.5 in /usr/local/lib/python3.7/dist-packages (from tensorflow) (2.5.0)\n",
            "Requirement already satisfied, skipping upgrade: keras-nightly~=2.5.0.dev in /usr/local/lib/python3.7/dist-packages (from tensorflow) (2.5.0.dev2021032900)\n",
            "Requirement already satisfied, skipping upgrade: protobuf>=3.9.2 in /usr/local/lib/python3.7/dist-packages (from tensorflow) (3.17.3)\n",
            "Requirement already satisfied, skipping upgrade: astunparse~=1.6.3 in /usr/local/lib/python3.7/dist-packages (from tensorflow) (1.6.3)\n",
            "Requirement already satisfied, skipping upgrade: flatbuffers~=1.12.0 in /usr/local/lib/python3.7/dist-packages (from tensorflow) (1.12)\n",
            "Requirement already satisfied, skipping upgrade: google-pasta~=0.2 in /usr/local/lib/python3.7/dist-packages (from tensorflow) (0.2.0)\n",
            "Requirement already satisfied, skipping upgrade: grpcio~=1.34.0 in /usr/local/lib/python3.7/dist-packages (from tensorflow) (1.34.1)\n",
            "Requirement already satisfied, skipping upgrade: termcolor~=1.1.0 in /usr/local/lib/python3.7/dist-packages (from tensorflow) (1.1.0)\n",
            "Requirement already satisfied, skipping upgrade: wrapt~=1.12.1 in /usr/local/lib/python3.7/dist-packages (from tensorflow) (1.12.1)\n",
            "Requirement already satisfied, skipping upgrade: wheel~=0.35 in /usr/local/lib/python3.7/dist-packages (from tensorflow) (0.36.2)\n",
            "Requirement already satisfied, skipping upgrade: numpy~=1.19.2 in /usr/local/lib/python3.7/dist-packages (from tensorflow) (1.19.5)\n",
            "Requirement already satisfied, skipping upgrade: opt-einsum~=3.3.0 in /usr/local/lib/python3.7/dist-packages (from tensorflow) (3.3.0)\n",
            "Requirement already satisfied, skipping upgrade: cached-property; python_version < \"3.8\" in /usr/local/lib/python3.7/dist-packages (from h5py~=3.1.0->tensorflow) (1.5.2)\n",
            "Requirement already satisfied, skipping upgrade: markdown>=2.6.8 in /usr/local/lib/python3.7/dist-packages (from tensorboard~=2.5->tensorflow) (3.3.4)\n",
            "Requirement already satisfied, skipping upgrade: tensorboard-data-server<0.7.0,>=0.6.0 in /usr/local/lib/python3.7/dist-packages (from tensorboard~=2.5->tensorflow) (0.6.1)\n",
            "Requirement already satisfied, skipping upgrade: tensorboard-plugin-wit>=1.6.0 in /usr/local/lib/python3.7/dist-packages (from tensorboard~=2.5->tensorflow) (1.8.0)\n",
            "Requirement already satisfied, skipping upgrade: setuptools>=41.0.0 in /usr/local/lib/python3.7/dist-packages (from tensorboard~=2.5->tensorflow) (57.0.0)\n",
            "Requirement already satisfied, skipping upgrade: google-auth-oauthlib<0.5,>=0.4.1 in /usr/local/lib/python3.7/dist-packages (from tensorboard~=2.5->tensorflow) (0.4.4)\n",
            "Requirement already satisfied, skipping upgrade: google-auth<2,>=1.6.3 in /usr/local/lib/python3.7/dist-packages (from tensorboard~=2.5->tensorflow) (1.32.1)\n",
            "Requirement already satisfied, skipping upgrade: werkzeug>=0.11.15 in /usr/local/lib/python3.7/dist-packages (from tensorboard~=2.5->tensorflow) (1.0.1)\n",
            "Requirement already satisfied, skipping upgrade: requests<3,>=2.21.0 in /usr/local/lib/python3.7/dist-packages (from tensorboard~=2.5->tensorflow) (2.23.0)\n",
            "Requirement already satisfied, skipping upgrade: importlib-metadata; python_version < \"3.8\" in /usr/local/lib/python3.7/dist-packages (from markdown>=2.6.8->tensorboard~=2.5->tensorflow) (4.6.0)\n",
            "Requirement already satisfied, skipping upgrade: requests-oauthlib>=0.7.0 in /usr/local/lib/python3.7/dist-packages (from google-auth-oauthlib<0.5,>=0.4.1->tensorboard~=2.5->tensorflow) (1.3.0)\n",
            "Requirement already satisfied, skipping upgrade: cachetools<5.0,>=2.0.0 in /usr/local/lib/python3.7/dist-packages (from google-auth<2,>=1.6.3->tensorboard~=2.5->tensorflow) (4.2.2)\n",
            "Requirement already satisfied, skipping upgrade: pyasn1-modules>=0.2.1 in /usr/local/lib/python3.7/dist-packages (from google-auth<2,>=1.6.3->tensorboard~=2.5->tensorflow) (0.2.8)\n",
            "Requirement already satisfied, skipping upgrade: rsa<5,>=3.1.4; python_version >= \"3.6\" in /usr/local/lib/python3.7/dist-packages (from google-auth<2,>=1.6.3->tensorboard~=2.5->tensorflow) (4.7.2)\n",
            "Requirement already satisfied, skipping upgrade: certifi>=2017.4.17 in /usr/local/lib/python3.7/dist-packages (from requests<3,>=2.21.0->tensorboard~=2.5->tensorflow) (2021.5.30)\n",
            "Requirement already satisfied, skipping upgrade: urllib3!=1.25.0,!=1.25.1,<1.26,>=1.21.1 in /usr/local/lib/python3.7/dist-packages (from requests<3,>=2.21.0->tensorboard~=2.5->tensorflow) (1.24.3)\n",
            "Requirement already satisfied, skipping upgrade: chardet<4,>=3.0.2 in /usr/local/lib/python3.7/dist-packages (from requests<3,>=2.21.0->tensorboard~=2.5->tensorflow) (3.0.4)\n",
            "Requirement already satisfied, skipping upgrade: idna<3,>=2.5 in /usr/local/lib/python3.7/dist-packages (from requests<3,>=2.21.0->tensorboard~=2.5->tensorflow) (2.10)\n",
            "Requirement already satisfied, skipping upgrade: zipp>=0.5 in /usr/local/lib/python3.7/dist-packages (from importlib-metadata; python_version < \"3.8\"->markdown>=2.6.8->tensorboard~=2.5->tensorflow) (3.4.1)\n",
            "Requirement already satisfied, skipping upgrade: oauthlib>=3.0.0 in /usr/local/lib/python3.7/dist-packages (from requests-oauthlib>=0.7.0->google-auth-oauthlib<0.5,>=0.4.1->tensorboard~=2.5->tensorflow) (3.1.1)\n",
            "Requirement already satisfied, skipping upgrade: pyasn1<0.5.0,>=0.4.6 in /usr/local/lib/python3.7/dist-packages (from pyasn1-modules>=0.2.1->google-auth<2,>=1.6.3->tensorboard~=2.5->tensorflow) (0.4.8)\n"
          ],
          "name": "stdout"
        }
      ]
    },
    {
      "cell_type": "code",
      "metadata": {
        "colab": {
          "base_uri": "https://localhost:8080/"
        },
        "id": "LFbo6E3P0zzO",
        "outputId": "ff33d7da-3438-41e1-fbd0-51b0e2a1693a"
      },
      "source": [
        "import tensorflow as tf\n",
        "from tensorflow import keras\n",
        "print('Version de Tensor Flow ==> ',tf.__version__)\n",
        "print('Version de Keras ==> ',keras.__version__)"
      ],
      "execution_count": 2,
      "outputs": [
        {
          "output_type": "stream",
          "text": [
            "Version de Tensor Flow ==>  2.5.0\n",
            "Version de Keras ==>  2.5.0\n"
          ],
          "name": "stdout"
        }
      ]
    },
    {
      "cell_type": "markdown",
      "metadata": {
        "id": "liembMCw1XB9"
      },
      "source": [
        "La version de keras no termina con un -tf tal como dice el libro. ¿Por que?\n",
        "\n",
        "Vamos a tratar de resolver un problema de clasificacion de imagenes. En particular vamos a trabajar con un dataset incluido en Keras."
      ]
    },
    {
      "cell_type": "code",
      "metadata": {
        "id": "6GtKn1ZS1yys"
      },
      "source": [
        "fashion_mnist = keras.datasets.fashion_mnist\n",
        "(X_train_full, y_train_full),(X_test,y_test) = fashion_mnist.load_data()"
      ],
      "execution_count": 3,
      "outputs": []
    },
    {
      "cell_type": "code",
      "metadata": {
        "colab": {
          "base_uri": "https://localhost:8080/",
          "height": 335
        },
        "id": "lZ2mBI4j2SH5",
        "outputId": "d71c75a8-bb3a-4db9-e5fb-87a5c0578c45"
      },
      "source": [
        "print('Forma del dataset = ',X_train_full.shape)\n",
        "import matplotlib.pyplot as plt\n",
        "import numpy as np\n",
        "N = 285\n",
        "plt.figure()\n",
        "plt.imshow(X_train_full[N],cmap='gray', vmin=0, vmax=255)\n",
        "plt.title(\"La etiqueta es = \" +  str(int(y_train_full[N])))\n",
        "print(\"Maximo = \",X_train_full.max(),\" Minimo = \",X_train_full.min())\n",
        "print(np.unique(y_train_full))"
      ],
      "execution_count": 4,
      "outputs": [
        {
          "output_type": "stream",
          "text": [
            "Forma del dataset =  (60000, 28, 28)\n",
            "Maximo =  255  Minimo =  0\n",
            "[0 1 2 3 4 5 6 7 8 9]\n"
          ],
          "name": "stdout"
        },
        {
          "output_type": "display_data",
          "data": {
            "image/png": "[encoded data removed]",
            "text/plain": [
              "<Figure size 432x288 with 1 Axes>"
            ]
          },
          "metadata": {
            "tags": [],
            "needs_background": "light"
          }
        }
      ]
    },
    {
      "cell_type": "markdown",
      "metadata": {
        "id": "WetsWZPz2xQp"
      },
      "source": [
        "En total tenemos $60$ mil imagenes en el conujunto de train. Las imagenes son matrices de $28 \\times 28$ que representan prendas de vestir. Cada elemento de imagen tiene un valor que va entre $0$ y $255$. En total tenemos $10$ clases que debemos poder clasificar. Estas clases estan etiquetadas por un entero entre $[0,9]$.\n",
        "\n",
        "A su vez ya podemos notar que tenemos una division entre Train y Test pero no tenemos un conjunto de validacion. Vamos a hacer este split y ademas vamos a normalizar los valores llevandolos del $[0,255] \\rightarrow [0,1]$."
      ]
    },
    {
      "cell_type": "code",
      "metadata": {
        "id": "zGaZ-ul13p7m",
        "colab": {
          "base_uri": "https://localhost:8080/"
        },
        "outputId": "1741ad17-6a7b-4b2f-e4a7-91d2c7289750"
      },
      "source": [
        "X_valid = X_train_full[:5000]/255\n",
        "X_train = X_train_full[5000:]/255\n",
        "y_valid = y_train_full[:5000]\n",
        "y_train = y_train_full[5000:]\n",
        "print(len(X_train))\n",
        "print(len(X_valid))"
      ],
      "execution_count": 31,
      "outputs": [
        {
          "output_type": "stream",
          "text": [
            "55000\n",
            "5000\n"
          ],
          "name": "stdout"
        }
      ]
    },
    {
      "cell_type": "markdown",
      "metadata": {
        "id": "PcDCOIfb7IUc"
      },
      "source": [
        "Las clases el libro dicen que son las siguientes:"
      ]
    },
    {
      "cell_type": "code",
      "metadata": {
        "colab": {
          "base_uri": "https://localhost:8080/",
          "height": 299
        },
        "id": "Y3xjUEKb7Mf6",
        "outputId": "0004bdc4-a230-423a-fb24-541dfb1cd5a0"
      },
      "source": [
        "class_names = [\"Remera\",\"Pantalon\",\"Pullover\",\"Vestido\",\"Saco\",\"Sandalia\",\"Camisa\",\"Zapatilla\",\"Bolso\",\"Bota\"]\n",
        "plt.figure()\n",
        "plt.imshow(X_train[N],cmap='gray', vmin=0, vmax=1)\n",
        "plt.title(\"La etiqueta es = \" +  class_names[y_train[N]])"
      ],
      "execution_count": 32,
      "outputs": [
        {
          "output_type": "execute_result",
          "data": {
            "text/plain": [
              "Text(0.5, 1.0, 'La etiqueta es = Bolso')"
            ]
          },
          "metadata": {
            "tags": []
          },
          "execution_count": 32
        },
        {
          "output_type": "display_data",
          "data": {
            "image/png": "[encoded data removed]",
            "text/plain": [
              "<Figure size 432x288 with 1 Axes>"
            ]
          },
          "metadata": {
            "tags": [],
            "needs_background": "light"
          }
        }
      ]
    },
    {
      "cell_type": "markdown",
      "metadata": {
        "id": "SIUR5hyY8lAU"
      },
      "source": [
        "Vamos a crear una red usando un diseño secuencial."
      ]
    },
    {
      "cell_type": "code",
      "metadata": {
        "colab": {
          "base_uri": "https://localhost:8080/"
        },
        "id": "pxtFWbyT83Wb",
        "outputId": "cd4cc296-9ef6-4e48-db79-7d826dc54749"
      },
      "source": [
        "model = keras.models.Sequential()\n",
        "model.add(keras.layers.Flatten(input_shape=[28,28]))\n",
        "model.add(keras.layers.Dense(128,activation=\"relu\"))\n",
        "#model.add(keras.layers.Dense(100,activation=\"relu\"))\n",
        "model.add(keras.layers.Dense(10,activation=\"softmax\"))\n",
        "print(model.summary())"
      ],
      "execution_count": 33,
      "outputs": [
        {
          "output_type": "stream",
          "text": [
            "Model: \"sequential_1\"\n",
            "_________________________________________________________________\n",
            "Layer (type)                 Output Shape              Param #   \n",
            "=================================================================\n",
            "flatten_1 (Flatten)          (None, 784)               0         \n",
            "_________________________________________________________________\n",
            "dense_2 (Dense)              (None, 128)               100480    \n",
            "_________________________________________________________________\n",
            "dense_3 (Dense)              (None, 10)                1290      \n",
            "=================================================================\n",
            "Total params: 101,770\n",
            "Trainable params: 101,770\n",
            "Non-trainable params: 0\n",
            "_________________________________________________________________\n",
            "None\n"
          ],
          "name": "stdout"
        }
      ]
    },
    {
      "cell_type": "code",
      "metadata": {
        "colab": {
          "base_uri": "https://localhost:8080/"
        },
        "id": "m0eXlMkqLVPn",
        "outputId": "114cd8d8-9f12-4e55-8a1f-f4c54cdeea80"
      },
      "source": [
        "model.compile(loss=\"sparse_categorical_crossentropy\",optimizer=\"sgd\",metrics=[\"accuracy\"])\n",
        "#model.compile(optimizer='adam',loss=tf.keras.losses.SparseCategoricalCrossentropy(from_logits=True),metrics=['accuracy'])\n",
        "history = model.fit(X_train, y_train, epochs=5,validation_data=(X_valid, y_valid))"
      ],
      "execution_count": 34,
      "outputs": [
        {
          "output_type": "stream",
          "text": [
            "Epoch 1/5\n",
            "1719/1719 [==============================] - 4s 2ms/step - loss: 0.7667 - accuracy: 0.7523 - val_loss: 0.5476 - val_accuracy: 0.8162\n",
            "Epoch 2/5\n",
            "1719/1719 [==============================] - 4s 2ms/step - loss: 0.5212 - accuracy: 0.8223 - val_loss: 0.4821 - val_accuracy: 0.8356\n",
            "Epoch 3/5\n",
            "1719/1719 [==============================] - 4s 2ms/step - loss: 0.4741 - accuracy: 0.8347 - val_loss: 0.4526 - val_accuracy: 0.8474\n",
            "Epoch 4/5\n",
            "1719/1719 [==============================] - 4s 2ms/step - loss: 0.4483 - accuracy: 0.8454 - val_loss: 0.4395 - val_accuracy: 0.8454\n",
            "Epoch 5/5\n",
            "1719/1719 [==============================] - 4s 2ms/step - loss: 0.4306 - accuracy: 0.8495 - val_loss: 0.4488 - val_accuracy: 0.8384\n"
          ],
          "name": "stdout"
        }
      ]
    },
    {
      "cell_type": "code",
      "metadata": {
        "colab": {
          "base_uri": "https://localhost:8080/",
          "height": 569
        },
        "id": "AsTKPMwgMxWi",
        "outputId": "b84095a4-a7df-4781-8079-180c16ac7e9f"
      },
      "source": [
        "print(history.history)\n",
        "plt.figure()\n",
        "plt.plot(history.history['val_accuracy'])\n",
        "plt.plot(history.history['accuracy'])\n",
        "\n",
        "plt.figure()\n",
        "plt.plot(history.history['val_loss'])\n",
        "plt.plot(history.history['loss'])"
      ],
      "execution_count": 35,
      "outputs": [
        {
          "output_type": "stream",
          "text": [
            "{'loss': [0.7666844725608826, 0.5211889743804932, 0.4741293787956238, 0.44825121760368347, 0.4305839538574219], 'accuracy': [0.7522727251052856, 0.8222908973693848, 0.834709107875824, 0.8453636169433594, 0.84947270154953], 'val_loss': [0.547609806060791, 0.4820639193058014, 0.4526456892490387, 0.4395141005516052, 0.44879966974258423], 'val_accuracy': [0.8162000179290771, 0.8356000185012817, 0.8474000096321106, 0.8453999757766724, 0.8384000062942505]}\n"
          ],
          "name": "stdout"
        },
        {
          "output_type": "execute_result",
          "data": {
            "text/plain": [
              "[<matplotlib.lines.Line2D at 0x7fe72c1bd850>]"
            ]
          },
          "metadata": {
            "tags": []
          },
          "execution_count": 35
        },
        {
          "output_type": "display_data",
          "data": {
            "image/png": "[encoded data removed]",
            "text/plain": [
              "<Figure size 432x288 with 1 Axes>"
            ]
          },
          "metadata": {
            "tags": [],
            "needs_background": "light"
          }
        },
        {
          "output_type": "display_data",
          "data": {
            "image/png": "[encoded data removed]",
            "text/plain": [
              "<Figure size 432x288 with 1 Axes>"
            ]
          },
          "metadata": {
            "tags": [],
            "needs_background": "light"
          }
        }
      ]
    },
    {
      "cell_type": "code",
      "metadata": {
        "colab": {
          "base_uri": "https://localhost:8080/",
          "height": 1000
        },
        "id": "tb_MgLW2qRym",
        "outputId": "f7cce9e7-5b72-46e0-e0e7-a3120f1e072e"
      },
      "source": [
        "y_test_pred = model.predict(X_test)\n",
        "import pandas as pd\n",
        "from sklearn.metrics import precision_score, recall_score, classification_report \n",
        "#reporte = classification_report(y_test, y_test_pred, target_names=class_names)\n",
        "\n",
        "#print(reporte)\n",
        "print(len(X_test),len(y_test),len(y_test_pred))\n",
        "print(pd.DataFrame(y_test_pred).tail(50))\n",
        "plt.hist(y_test_pred)\n"
      ],
      "execution_count": 36,
      "outputs": [
        {
          "output_type": "stream",
          "text": [
            "10000 10000 10000\n",
            "                 0    1             2    3  ...             6    7    8    9\n",
            "9950  0.000000e+00  0.0  0.000000e+00  1.0  ...  0.000000e+00  0.0  0.0  0.0\n",
            "9951  1.000000e+00  0.0  0.000000e+00  0.0  ...  0.000000e+00  0.0  0.0  0.0\n",
            "9952  0.000000e+00  0.0  0.000000e+00  0.0  ...  0.000000e+00  0.0  1.0  0.0\n",
            "9953  0.000000e+00  0.0  1.000000e+00  0.0  ...  1.323776e-28  0.0  0.0  0.0\n",
            "9954  0.000000e+00  0.0  0.000000e+00  0.0  ...  0.000000e+00  0.0  0.0  1.0\n",
            "9955  0.000000e+00  0.0  0.000000e+00  0.0  ...  1.000000e+00  0.0  0.0  0.0\n",
            "9956  0.000000e+00  0.0  0.000000e+00  0.0  ...  0.000000e+00  0.0  0.0  1.0\n",
            "9957  3.702318e-09  0.0  0.000000e+00  0.0  ...  1.000000e+00  0.0  0.0  0.0\n",
            "9958  1.000000e+00  0.0  0.000000e+00  0.0  ...  0.000000e+00  0.0  0.0  0.0\n",
            "9959  0.000000e+00  0.0  0.000000e+00  0.0  ...  0.000000e+00  0.0  0.0  0.0\n",
            "9960  0.000000e+00  1.0  0.000000e+00  0.0  ...  0.000000e+00  0.0  0.0  0.0\n",
            "9961  0.000000e+00  0.0  1.000000e+00  0.0  ...  0.000000e+00  0.0  0.0  0.0\n",
            "9962  0.000000e+00  0.0  0.000000e+00  0.0  ...  1.000000e+00  0.0  0.0  0.0\n",
            "9963  0.000000e+00  0.0  0.000000e+00  0.0  ...  9.232872e-16  0.0  0.0  0.0\n",
            "9964  0.000000e+00  0.0  0.000000e+00  0.0  ...  0.000000e+00  0.0  0.0  1.0\n",
            "9965  0.000000e+00  1.0  0.000000e+00  0.0  ...  0.000000e+00  0.0  0.0  0.0\n",
            "9966  0.000000e+00  0.0  0.000000e+00  0.0  ...  0.000000e+00  0.0  0.0  0.0\n",
            "9967  0.000000e+00  0.0  0.000000e+00  0.0  ...  0.000000e+00  0.0  0.0  1.0\n",
            "9968  0.000000e+00  0.0  0.000000e+00  0.0  ...  0.000000e+00  1.0  0.0  0.0\n",
            "9969  0.000000e+00  0.0  0.000000e+00  0.0  ...  0.000000e+00  0.0  1.0  0.0\n",
            "9970  0.000000e+00  0.0  1.000000e+00  0.0  ...  0.000000e+00  0.0  0.0  0.0\n",
            "9971  0.000000e+00  0.0  0.000000e+00  0.0  ...  1.000000e+00  0.0  0.0  0.0\n",
            "9972  0.000000e+00  0.0  0.000000e+00  0.0  ...  1.000000e+00  0.0  0.0  0.0\n",
            "9973  0.000000e+00  0.0  0.000000e+00  0.0  ...  0.000000e+00  0.0  0.0  1.0\n",
            "9974  0.000000e+00  0.0  0.000000e+00  0.0  ...  0.000000e+00  1.0  0.0  0.0\n",
            "9975  0.000000e+00  0.0  0.000000e+00  0.0  ...  0.000000e+00  0.0  1.0  0.0\n",
            "9976  0.000000e+00  0.0  0.000000e+00  0.0  ...  0.000000e+00  0.0  0.0  0.0\n",
            "9977  1.000000e+00  0.0  0.000000e+00  0.0  ...  0.000000e+00  0.0  0.0  0.0\n",
            "9978  0.000000e+00  0.0  0.000000e+00  0.0  ...  0.000000e+00  0.0  0.0  1.0\n",
            "9979  1.000000e+00  0.0  0.000000e+00  0.0  ...  0.000000e+00  0.0  0.0  0.0\n",
            "9980  1.000000e+00  0.0  0.000000e+00  0.0  ...  0.000000e+00  0.0  0.0  0.0\n",
            "9981  1.000000e+00  0.0  0.000000e+00  0.0  ...  0.000000e+00  0.0  0.0  0.0\n",
            "9982  0.000000e+00  0.0  0.000000e+00  0.0  ...  0.000000e+00  0.0  1.0  0.0\n",
            "9983  0.000000e+00  1.0  0.000000e+00  0.0  ...  0.000000e+00  0.0  0.0  0.0\n",
            "9984  0.000000e+00  0.0  0.000000e+00  1.0  ...  0.000000e+00  0.0  0.0  0.0\n",
            "9985  0.000000e+00  1.0  0.000000e+00  0.0  ...  0.000000e+00  0.0  0.0  0.0\n",
            "9986  0.000000e+00  0.0  0.000000e+00  0.0  ...  0.000000e+00  1.0  0.0  0.0\n",
            "9987  0.000000e+00  0.0  0.000000e+00  0.0  ...  0.000000e+00  0.0  0.0  0.0\n",
            "9988  0.000000e+00  0.0  0.000000e+00  0.0  ...  0.000000e+00  0.0  1.0  0.0\n",
            "9989  0.000000e+00  0.0  0.000000e+00  0.0  ...  0.000000e+00  0.0  0.0  0.0\n",
            "9990  0.000000e+00  0.0  0.000000e+00  0.0  ...  0.000000e+00  0.0  0.0  0.0\n",
            "9991  0.000000e+00  0.0  1.823107e-33  0.0  ...  1.000000e+00  0.0  0.0  0.0\n",
            "9992  0.000000e+00  0.0  0.000000e+00  0.0  ...  0.000000e+00  0.0  1.0  0.0\n",
            "9993  0.000000e+00  0.0  0.000000e+00  0.0  ...  0.000000e+00  0.0  0.0  1.0\n",
            "9994  0.000000e+00  1.0  0.000000e+00  0.0  ...  0.000000e+00  0.0  0.0  0.0\n",
            "9995  0.000000e+00  0.0  0.000000e+00  0.0  ...  0.000000e+00  0.0  0.0  1.0\n",
            "9996  0.000000e+00  1.0  0.000000e+00  0.0  ...  0.000000e+00  0.0  0.0  0.0\n",
            "9997  0.000000e+00  0.0  0.000000e+00  0.0  ...  0.000000e+00  0.0  1.0  0.0\n",
            "9998  0.000000e+00  1.0  0.000000e+00  0.0  ...  0.000000e+00  0.0  0.0  0.0\n",
            "9999  0.000000e+00  0.0  0.000000e+00  0.0  ...  0.000000e+00  1.0  0.0  0.0\n",
            "\n",
            "[50 rows x 10 columns]\n"
          ],
          "name": "stdout"
        },
        {
          "output_type": "execute_result",
          "data": {
            "text/plain": [
              "(array([[9.253e+03, 0.000e+00, 2.000e+00, 0.000e+00, 0.000e+00, 0.000e+00,\n",
              "         1.000e+00, 0.000e+00, 1.000e+00, 7.430e+02],\n",
              "        [8.994e+03, 0.000e+00, 1.000e+00, 1.000e+00, 0.000e+00, 0.000e+00,\n",
              "         0.000e+00, 0.000e+00, 0.000e+00, 1.004e+03],\n",
              "        [9.373e+03, 1.000e+00, 2.000e+00, 1.000e+00, 0.000e+00, 0.000e+00,\n",
              "         0.000e+00, 0.000e+00, 0.000e+00, 6.230e+02],\n",
              "        [9.057e+03, 0.000e+00, 0.000e+00, 0.000e+00, 0.000e+00, 0.000e+00,\n",
              "         0.000e+00, 1.000e+00, 0.000e+00, 9.420e+02],\n",
              "        [8.548e+03, 0.000e+00, 1.000e+00, 2.000e+00, 1.000e+00, 0.000e+00,\n",
              "         2.000e+00, 4.000e+00, 1.000e+00, 1.441e+03],\n",
              "        [9.264e+03, 1.000e+00, 0.000e+00, 1.000e+00, 0.000e+00, 0.000e+00,\n",
              "         0.000e+00, 0.000e+00, 1.000e+00, 7.330e+02],\n",
              "        [8.754e+03, 2.000e+00, 1.000e+00, 1.000e+00, 0.000e+00, 1.000e+00,\n",
              "         2.000e+00, 2.000e+00, 1.000e+00, 1.236e+03],\n",
              "        [8.989e+03, 1.000e+00, 0.000e+00, 1.000e+00, 1.000e+00, 0.000e+00,\n",
              "         0.000e+00, 1.000e+00, 0.000e+00, 1.007e+03],\n",
              "        [8.991e+03, 0.000e+00, 0.000e+00, 0.000e+00, 0.000e+00, 0.000e+00,\n",
              "         0.000e+00, 0.000e+00, 0.000e+00, 1.009e+03],\n",
              "        [8.755e+03, 0.000e+00, 1.000e+00, 0.000e+00, 0.000e+00, 1.000e+00,\n",
              "         2.000e+00, 0.000e+00, 1.000e+00, 1.240e+03]]),\n",
              " array([0. , 0.1, 0.2, 0.3, 0.4, 0.5, 0.6, 0.7, 0.8, 0.9, 1. ],\n",
              "       dtype=float32),\n",
              " <a list of 10 Lists of Patches objects>)"
            ]
          },
          "metadata": {
            "tags": []
          },
          "execution_count": 36
        },
        {
          "output_type": "display_data",
          "data": {
            "image/png": "[encoded data removed]",
            "text/plain": [
              "<Figure size 432x288 with 1 Axes>"
            ]
          },
          "metadata": {
            "tags": [],
            "needs_background": "light"
          }
        }
      ]
    }
  ]
}