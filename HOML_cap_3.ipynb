{
  "nbformat": 4,
  "nbformat_minor": 0,
  "metadata": {
    "colab": {
      "name": "HOML_cap_3.ipynb",
      "provenance": [],
      "authorship_tag": "ABX9TyN6+wpwah9+zWWWg5iaz69r",
      "include_colab_link": true
    },
    "kernelspec": {
      "name": "python3",
      "display_name": "Python 3"
    },
    "language_info": {
      "name": "python"
    }
  },
  "cells": [
    {
      "cell_type": "markdown",
      "metadata": {
        "id": "view-in-github",
        "colab_type": "text"
      },
      "source": [
        "<a href=\"https://colab.research.google.com/github/nechebarrena/HOML/blob/main/HOML_cap_3.ipynb\" target=\"_parent\"><img src=\"https://colab.research.google.com/assets/colab-badge.svg\" alt=\"Open In Colab\"/></a>"
      ]
    },
    {
      "cell_type": "markdown",
      "metadata": {
        "id": "Un3YsYNDMwKL"
      },
      "source": [
        "# CAPITULO 3 - HANDS ON MACHINE LEARNING\n",
        "## CLASIFICADORES\n",
        "En este archivo se encuentran los ejemplos propuestos en el capitulo y algunas anotaciones tomadas del mismo.\n",
        "\n",
        "En este capitulo el libro muestra como implementar un sistema clasificador y las metricas adecuadas para su evaluacion. El problema que plantea es la clasificacion de imagenes con digitos escritos a mano. Para eso usa el dataset de entrenamoiento MNIST que podemos bajar directamente de Sklearn."
      ]
    },
    {
      "cell_type": "code",
      "metadata": {
        "colab": {
          "base_uri": "https://localhost:8080/"
        },
        "id": "Q0mkZyVkL6xV",
        "outputId": "574d4e8d-d649-4796-e5d8-3cf8b729d2bd"
      },
      "source": [
        "from sklearn.datasets import fetch_openml\n",
        "mnist = fetch_openml(\"mnist_784\",version=1)\n",
        "mnist.keys()"
      ],
      "execution_count": null,
      "outputs": [
        {
          "output_type": "execute_result",
          "data": {
            "text/plain": [
              "dict_keys(['data', 'target', 'frame', 'feature_names', 'target_names', 'DESCR', 'details', 'categories', 'url'])"
            ]
          },
          "metadata": {
            "tags": []
          },
          "execution_count": 1
        }
      ]
    },
    {
      "cell_type": "code",
      "metadata": {
        "id": "1feuhg4-NmEZ"
      },
      "source": [
        "import os\n",
        "from google.colab import drive\n",
        "#drive.mount(\"/content/drive\")\n",
        "#os.chdir('drive/My Drive/Colab Notebooks/HOML')\n",
        "#print(os.listdir())"
      ],
      "execution_count": null,
      "outputs": []
    },
    {
      "cell_type": "code",
      "metadata": {
        "colab": {
          "base_uri": "https://localhost:8080/",
          "height": 107
        },
        "id": "tx-kIH3XQKsf",
        "outputId": "b8a07644-6d16-4111-ff7d-f9b71b3fb44a"
      },
      "source": [
        "mnist['DESCR']"
      ],
      "execution_count": null,
      "outputs": [
        {
          "output_type": "execute_result",
          "data": {
            "application/vnd.google.colaboratory.intrinsic+json": {
              "type": "string"
            },
            "text/plain": [
              "\"**Author**: Yann LeCun, Corinna Cortes, Christopher J.C. Burges  \\n**Source**: [MNIST Website](http://yann.lecun.com/exdb/mnist/) - Date unknown  \\n**Please cite**:  \\n\\nThe MNIST database of handwritten digits with 784 features, raw data available at: http://yann.lecun.com/exdb/mnist/. It can be split in a training set of the first 60,000 examples, and a test set of 10,000 examples  \\n\\nIt is a subset of a larger set available from NIST. The digits have been size-normalized and centered in a fixed-size image. It is a good database for people who want to try learning techniques and pattern recognition methods on real-world data while spending minimal efforts on preprocessing and formatting. The original black and white (bilevel) images from NIST were size normalized to fit in a 20x20 pixel box while preserving their aspect ratio. The resulting images contain grey levels as a result of the anti-aliasing technique used by the normalization algorithm. the images were centered in a 28x28 image by computing the center of mass of the pixels, and translating the image so as to position this point at the center of the 28x28 field.  \\n\\nWith some classification methods (particularly template-based methods, such as SVM and K-nearest neighbors), the error rate improves when the digits are centered by bounding box rather than center of mass. If you do this kind of pre-processing, you should report it in your publications. The MNIST database was constructed from NIST's NIST originally designated SD-3 as their training set and SD-1 as their test set. However, SD-3 is much cleaner and easier to recognize than SD-1. The reason for this can be found on the fact that SD-3 was collected among Census Bureau employees, while SD-1 was collected among high-school students. Drawing sensible conclusions from learning experiments requires that the result be independent of the choice of training set and test among the complete set of samples. Therefore it was necessary to build a new database by mixing NIST's datasets.  \\n\\nThe MNIST training set is composed of 30,000 patterns from SD-3 and 30,000 patterns from SD-1. Our test set was composed of 5,000 patterns from SD-3 and 5,000 patterns from SD-1. The 60,000 pattern training set contained examples from approximately 250 writers. We made sure that the sets of writers of the training set and test set were disjoint. SD-1 contains 58,527 digit images written by 500 different writers. In contrast to SD-3, where blocks of data from each writer appeared in sequence, the data in SD-1 is scrambled. Writer identities for SD-1 is available and we used this information to unscramble the writers. We then split SD-1 in two: characters written by the first 250 writers went into our new training set. The remaining 250 writers were placed in our test set. Thus we had two sets with nearly 30,000 examples each. The new training set was completed with enough examples from SD-3, starting at pattern # 0, to make a full set of 60,000 training patterns. Similarly, the new test set was completed with SD-3 examples starting at pattern # 35,000 to make a full set with 60,000 test patterns. Only a subset of 10,000 test images (5,000 from SD-1 and 5,000 from SD-3) is available on this site. The full 60,000 sample training set is available.\\n\\nDownloaded from openml.org.\""
            ]
          },
          "metadata": {
            "tags": []
          },
          "execution_count": 3
        }
      ]
    },
    {
      "cell_type": "code",
      "metadata": {
        "colab": {
          "base_uri": "https://localhost:8080/",
          "height": 299
        },
        "id": "31KUAz4pRuFI",
        "outputId": "74924d1f-64b8-447d-cd71-683836eaa8f2"
      },
      "source": [
        "import matplotlib.pyplot as plt\n",
        "X = mnist['data']\n",
        "y = mnist['target']\n",
        "N = 400\n",
        "digito_prueba = X[N]\n",
        "digito_prueba_imagen = digito_prueba.reshape(28,28)\n",
        "plt.imshow(digito_prueba_imagen)\n",
        "plt.title('Esto es un = ' + y[N])\n",
        "type(y[N])"
      ],
      "execution_count": null,
      "outputs": [
        {
          "output_type": "execute_result",
          "data": {
            "text/plain": [
              "str"
            ]
          },
          "metadata": {
            "tags": []
          },
          "execution_count": 4
        },
        {
          "output_type": "display_data",
          "data": {
            "image/png": "[encoded data removed]",
            "text/plain": [
              "<Figure size 432x288 with 1 Axes>"
            ]
          },
          "metadata": {
            "tags": [],
            "needs_background": "light"
          }
        }
      ]
    },
    {
      "cell_type": "markdown",
      "metadata": {
        "id": "Ef6zki8tS-_Q"
      },
      "source": [
        "Un poco choto que el target sea un str en lugar de un valor numerico .. =("
      ]
    },
    {
      "cell_type": "code",
      "metadata": {
        "colab": {
          "base_uri": "https://localhost:8080/",
          "height": 299
        },
        "id": "wZjnemUUTGxw",
        "outputId": "fa9fc90c-fb86-423d-c98d-bd1b4602d64c"
      },
      "source": [
        "import numpy as np\n",
        "y_num = y.astype(np.uint8)\n",
        "\n",
        "hist_max,bin_edges = np.histogram(y_num, bins=10, range=(0, 10))\n",
        "plt.bar(bin_edges[:-1], hist_max, width = 0.7,alpha=0.7,label='Digitos')\n",
        "plt.grid(axis=\"both\", alpha=0.7)\n",
        "plt.title('Distribucion de digitos')\n"
      ],
      "execution_count": null,
      "outputs": [
        {
          "output_type": "execute_result",
          "data": {
            "text/plain": [
              "Text(0.5, 1.0, 'Distribucion de digitos')"
            ]
          },
          "metadata": {
            "tags": []
          },
          "execution_count": 5
        },
        {
          "output_type": "display_data",
          "data": {
            "image/png": "[encoded data removed]",
            "text/plain": [
              "<Figure size 432x288 with 1 Axes>"
            ]
          },
          "metadata": {
            "tags": [],
            "needs_background": "light"
          }
        }
      ]
    },
    {
      "cell_type": "markdown",
      "metadata": {
        "id": "dSem7ih0Wt5G"
      },
      "source": [
        "El libro dice que los datos ya estan separados en train y test, siendo los primeros 60K train y los ultimos 10k test. Sin mebargo al probar graficar el histograma para distintos conjuntos no se ve que esten ordenados. O sea, los datos estan ordenados aleatoriamente, con lo cual uno podria separar en train y test a partir del valor que quiera y no necesariamente en 60k."
      ]
    },
    {
      "cell_type": "code",
      "metadata": {
        "id": "UuoYztbeXPe_"
      },
      "source": [
        "X_train, X_test, y_train, y_test = X[:60000], X[60000:], y_num[:60000], y_num[60000:]"
      ],
      "execution_count": null,
      "outputs": []
    },
    {
      "cell_type": "markdown",
      "metadata": {
        "id": "p-JpEgJeXo87"
      },
      "source": [
        "## Clasificador binario\n",
        "Antes de abordar el problema el libro propone implementar un clasificador binario, o sea, que puede distinguir entre 2 clases. Por ejemplo, entre aquellos digitos que son 5 y todos los que no lo son. Primero entonces vamos a probar armar este clasificador binario."
      ]
    },
    {
      "cell_type": "code",
      "metadata": {
        "colab": {
          "base_uri": "https://localhost:8080/",
          "height": 283
        },
        "id": "0TiaXC-fX_K4",
        "outputId": "ef581558-e3e5-4c80-ac87-090e224c2a65"
      },
      "source": [
        "y_train_5 = (y_train == 5)\n",
        "\n",
        "y_test_5 = (y_test == 5)\n",
        "\n",
        "bines = [5,10]\n",
        "hist = [np.count_nonzero(y_train_5 == True),np.count_nonzero(y_train_5 == False)]\n",
        "plt.grid(axis=\"both\", alpha=0.7)\n",
        "plt.bar(bines, hist, width = 0.7,label='Digitos')\n",
        "\n",
        "y_train_5[10:]"
      ],
      "execution_count": null,
      "outputs": [
        {
          "output_type": "execute_result",
          "data": {
            "text/plain": [
              "array([False,  True, False, ...,  True, False, False])"
            ]
          },
          "metadata": {
            "tags": []
          },
          "execution_count": 7
        },
        {
          "output_type": "display_data",
          "data": {
            "image/png": "[encoded data removed]",
            "text/plain": [
              "<Figure size 432x288 with 1 Axes>"
            ]
          },
          "metadata": {
            "tags": [],
            "needs_background": "light"
          }
        }
      ]
    },
    {
      "cell_type": "markdown",
      "metadata": {
        "id": "Da4IVmZZhE5b"
      },
      "source": [
        "Es evidente que las clases que pretendemos clasificar estan muy desbalanceadas. A pesar de esto vamos a implementar un clasificador y ver que pasa. El libro propone primero implementar un clasificador utilizando el modelo de Descenso estocastico de gradiente (SGD por sus siglas en ingles). "
      ]
    },
    {
      "cell_type": "code",
      "metadata": {
        "colab": {
          "base_uri": "https://localhost:8080/"
        },
        "id": "oTPkscHnhdqM",
        "outputId": "3796f878-6ce0-46be-bc17-3269a4568594"
      },
      "source": [
        "from sklearn.linear_model import SGDClassifier\n",
        "sgd_clf = SGDClassifier(random_state=42)\n",
        "sgd_clf.fit(X_train, y_train_5)"
      ],
      "execution_count": null,
      "outputs": [
        {
          "output_type": "execute_result",
          "data": {
            "text/plain": [
              "SGDClassifier(alpha=0.0001, average=False, class_weight=None,\n",
              "              early_stopping=False, epsilon=0.1, eta0=0.0, fit_intercept=True,\n",
              "              l1_ratio=0.15, learning_rate='optimal', loss='hinge',\n",
              "              max_iter=1000, n_iter_no_change=5, n_jobs=None, penalty='l2',\n",
              "              power_t=0.5, random_state=42, shuffle=True, tol=0.001,\n",
              "              validation_fraction=0.1, verbose=0, warm_start=False)"
            ]
          },
          "metadata": {
            "tags": []
          },
          "execution_count": 8
        }
      ]
    },
    {
      "cell_type": "markdown",
      "metadata": {
        "id": "w4m837IiofIw"
      },
      "source": [
        "Ahora el libro propone hacer una validacion cruzada para poder calcular alguna metrica sobre el clasificador. Sin embargo propone no utilizar la funcion de sklearn ya implementada sino crear una por nosotros mismos."
      ]
    },
    {
      "cell_type": "code",
      "metadata": {
        "colab": {
          "base_uri": "https://localhost:8080/"
        },
        "id": "jYiFJL1eovr3",
        "outputId": "040f4ab5-6f3b-4e5d-97a5-655f1f4f1e3e"
      },
      "source": [
        "from sklearn.model_selection import StratifiedKFold\n",
        "from sklearn.base import clone\n",
        "\n",
        "def val_cruzada_score(k,modelo,X,y):\n",
        "  X_train = X\n",
        "  y_train_5 = y\n",
        "  skfolds = StratifiedKFold(n_splits = k, random_state=42)\n",
        "  res = []\n",
        "  for train_index, test_index in skfolds.split(X_train,y_train_5):\n",
        "    clone_clf = clone(modelo)\n",
        "    X_train_folds = X_train[train_index]\n",
        "    y_train_folds = y_train_5[train_index]\n",
        "\n",
        "    X_test_folds = X_train[test_index]\n",
        "    y_test_folds = y_train_5[test_index]\n",
        "\n",
        "    clone_clf.fit(X_train_folds,y_train_folds)\n",
        "    y_pred = clone_clf.predict(X_test_folds)\n",
        "    n_correct = sum(y_pred == y_test_folds)\n",
        "    res.append(n_correct/len(y_pred))\n",
        "  return res\n",
        "\n",
        "k_folds = 3\n",
        "score = val_cruzada_score(k_folds,sgd_clf,X_train,y_train_5)\n",
        "print(score)"
      ],
      "execution_count": null,
      "outputs": [
        {
          "output_type": "stream",
          "text": [
            "/usr/local/lib/python3.7/dist-packages/sklearn/model_selection/_split.py:296: FutureWarning: Setting a random_state has no effect since shuffle is False. This will raise an error in 0.24. You should leave random_state to its default (None), or set shuffle=True.\n",
            "  FutureWarning\n"
          ],
          "name": "stderr"
        },
        {
          "output_type": "stream",
          "text": [
            "[0.95035, 0.96035, 0.9604]\n"
          ],
          "name": "stdout"
        }
      ]
    },
    {
      "cell_type": "markdown",
      "metadata": {
        "id": "mZG-8i6k_TQF"
      },
      "source": [
        "Wow, un minimo de 95 de accuracy!!\n",
        "Mmm...extraño. Hay que recordar que las clases estaban muy desbalanceadas. Probemos un clasificador muy sencillo donde siempre predigo que la clase NO es cinco y veamos que pasa."
      ]
    },
    {
      "cell_type": "code",
      "metadata": {
        "colab": {
          "base_uri": "https://localhost:8080/"
        },
        "id": "pqHXHDOq_2oY",
        "outputId": "fed9df71-d22d-43ac-bcaf-1acb569a8037"
      },
      "source": [
        "from sklearn.base import BaseEstimator\n",
        "\n",
        "class modelo_base(BaseEstimator):\n",
        "  def fit(self,X,y=None):\n",
        "    pass\n",
        "  def predict(self,X):\n",
        "    return np.zeros(len(X),dtype=bool)\n",
        "\n",
        "modelo_base_clf = modelo_base()\n",
        "score_base = val_cruzada_score(k_folds,modelo_base_clf,X_train,y_train_5)\n",
        "print(score_base)"
      ],
      "execution_count": null,
      "outputs": [
        {
          "output_type": "stream",
          "text": [
            "/usr/local/lib/python3.7/dist-packages/sklearn/model_selection/_split.py:296: FutureWarning: Setting a random_state has no effect since shuffle is False. This will raise an error in 0.24. You should leave random_state to its default (None), or set shuffle=True.\n",
            "  FutureWarning\n"
          ],
          "name": "stderr"
        },
        {
          "output_type": "stream",
          "text": [
            "[0.90965, 0.90965, 0.90965]\n"
          ],
          "name": "stdout"
        }
      ]
    },
    {
      "cell_type": "markdown",
      "metadata": {
        "id": "W5Zq1F2_DytB"
      },
      "source": [
        "Haciendo un clasificador que siempre arroja la categoria \"NO es 5\" logre un 90% de accuracy. Claramente necesito otra metrica para ver si mi modelo es bueno o no. \n",
        "Otra posibilidad seria ver la misma metrica pero con datos balanceados.\n",
        "(Para que funcione correctamente tuve que cambiar la salida del clasificador que propone el libro. La salida que muestra es una tupla de (len(X),1)) y yo la lleve a len(x).\n",
        "\n",
        "Lo que vamos a hacer es calcular la matriz de confusion que deberia resultar mas informativa que el accuracy. Para eso usamos la funcion de Sklearn cross_val_predcit."
      ]
    },
    {
      "cell_type": "code",
      "metadata": {
        "id": "tBSilREnEbXy"
      },
      "source": [
        "from sklearn.model_selection import cross_val_predict\n",
        "y_train_pred = cross_val_predict(sgd_clf, X_train, y_train_5, cv=3)\n",
        "from sklearn.metrics import confusion_matrix\n",
        "cm = confusion_matrix(y_train_5, y_train_pred)\n",
        "\n",
        "y_train_pred_base = cross_val_predict(modelo_base_clf, X_train, y_train_5, cv=3)\n",
        "cm_base = confusion_matrix(y_train_5, y_train_pred_base)"
      ],
      "execution_count": null,
      "outputs": []
    },
    {
      "cell_type": "code",
      "metadata": {
        "colab": {
          "base_uri": "https://localhost:8080/",
          "height": 627
        },
        "id": "ItWfa05qGc6w",
        "outputId": "f4284c03-572b-4f50-8d60-3312b7fbb160"
      },
      "source": [
        "import seaborn as sns\n",
        "import pandas as pd\n",
        "def show_confusion_matrix(confusion_matrix):\n",
        "  hmap = sns.heatmap(confusion_matrix, annot=True, fmt=\"d\", cmap=\"Greens\")\n",
        "  hmap.yaxis.set_ticklabels(hmap.yaxis.get_ticklabels(), rotation=0, ha='right')\n",
        "  hmap.xaxis.set_ticklabels(hmap.xaxis.get_ticklabels(), rotation=30, ha='right')\n",
        "  plt.ylabel('Verdaderos')\n",
        "  plt.xlabel('Predichos');\n",
        "clases = ('OTROS','CINCOS')\n",
        "\n",
        "df_cm = pd.DataFrame(cm, index=clases, columns=clases)\n",
        "df_base_cm = pd.DataFrame(cm_base, index=clases, columns=clases)\n",
        "plt.figure()\n",
        "show_confusion_matrix(df_cm)\n",
        "plt.title('SGD')\n",
        "plt.figure()\n",
        "show_confusion_matrix(df_base_cm)\n",
        "plt.title('Base')"
      ],
      "execution_count": null,
      "outputs": [
        {
          "output_type": "execute_result",
          "data": {
            "text/plain": [
              "Text(0.5, 1.0, 'Base')"
            ]
          },
          "metadata": {
            "tags": []
          },
          "execution_count": 12
        },
        {
          "output_type": "display_data",
          "data": {
            "image/png": "[encoded data removed]",
            "text/plain": [
              "<Figure size 432x288 with 2 Axes>"
            ]
          },
          "metadata": {
            "tags": [],
            "needs_background": "light"
          }
        },
        {
          "output_type": "display_data",
          "data": {
            "image/png": "[encoded data removed]",
            "text/plain": [
              "<Figure size 432x288 with 2 Axes>"
            ]
          },
          "metadata": {
            "tags": [],
            "needs_background": "light"
          }
        }
      ]
    },
    {
      "cell_type": "markdown",
      "metadata": {
        "id": "rbnMS5UKHPki"
      },
      "source": [
        "Ahora tengo una mejor idea de lo que esta pasando con el modelo que arme inicialmente."
      ]
    },
    {
      "cell_type": "code",
      "metadata": {
        "colab": {
          "base_uri": "https://localhost:8080/"
        },
        "id": "GTVKIjFIICeH",
        "outputId": "f6173e11-f5f3-4bd2-ca9b-4030e8f6d488"
      },
      "source": [
        "from sklearn.metrics import precision_score, recall_score, classification_report \n",
        "precision = precision_score(y_train_5, y_train_pred) \n",
        "recall = recall_score(y_train_5, y_train_pred)\n",
        "print(precision) #0.83\n",
        "print(recall) #0.65\n",
        "reporte = classification_report(y_train_5, y_train_pred, target_names=clases)\n",
        "reporte_base = classification_report(y_train_5, y_train_pred_base, target_names=clases)\n",
        "print(reporte)\n",
        "print(reporte_base)"
      ],
      "execution_count": null,
      "outputs": [
        {
          "output_type": "stream",
          "text": [
            "0.8370879772350012\n",
            "0.6511713705958311\n",
            "              precision    recall  f1-score   support\n",
            "\n",
            "       OTROS       0.97      0.99      0.98     54579\n",
            "      CINCOS       0.84      0.65      0.73      5421\n",
            "\n",
            "    accuracy                           0.96     60000\n",
            "   macro avg       0.90      0.82      0.85     60000\n",
            "weighted avg       0.95      0.96      0.95     60000\n",
            "\n",
            "              precision    recall  f1-score   support\n",
            "\n",
            "       OTROS       0.91      1.00      0.95     54579\n",
            "      CINCOS       0.00      0.00      0.00      5421\n",
            "\n",
            "    accuracy                           0.91     60000\n",
            "   macro avg       0.45      0.50      0.48     60000\n",
            "weighted avg       0.83      0.91      0.87     60000\n",
            "\n"
          ],
          "name": "stdout"
        },
        {
          "output_type": "stream",
          "text": [
            "/usr/local/lib/python3.7/dist-packages/sklearn/metrics/_classification.py:1272: UndefinedMetricWarning: Precision and F-score are ill-defined and being set to 0.0 in labels with no predicted samples. Use `zero_division` parameter to control this behavior.\n",
            "  _warn_prf(average, modifier, msg_start, len(result))\n"
          ],
          "name": "stderr"
        }
      ]
    },
    {
      "cell_type": "markdown",
      "metadata": {
        "id": "1HiaKjc_LF4q"
      },
      "source": [
        "Aca puedo ver la diferencia entre el modelo SGD y el modelo base que siempre predice \"NO es 5\".\n",
        "Se puede ver que la diferencia esta en la precision y el recall que se obtienen para la clase \"5\". \n",
        "Sin embargo no me escapo de mirar ambos numeros. Quizas habria que pensar (seguro alguien ya lo hizo) una metrica que, asi como el f1 combina la precision y el recall para una clase, combine ambas clases. Quizas un promedio armonico de ambas f1.\n",
        "Internamente el sistema clasificador utiliza un valor umbral para determinar si una instancia es de una clase o la otra. Mover este valor umbral permite obtener mas recall o mayor precision, pero no ambas cosas al mismo tiempo. Esto nos dice que debe existir un punto \"ideal\" donde maximizamos ambas metricas. \n",
        "Sklearn nos permite averiguar el valor de score arrojado para cada instancia y luego pensar nosotros donde nos gustaria poner el valor de umbral. Esto ultimo no podemos implementarlo utilizando sklearn, pero si lo primero y luego hacer nosotros la funcion que decide la clase segun el valor de score arrojado. La funcion que arroja el score para cada instancia es \"decision_function\"."
      ]
    },
    {
      "cell_type": "code",
      "metadata": {
        "colab": {
          "base_uri": "https://localhost:8080/",
          "height": 301
        },
        "id": "0gOSc5XdYa7X",
        "outputId": "53a08960-a3e3-4284-8b1f-1faf979d421d"
      },
      "source": [
        "y_scores = cross_val_predict(sgd_clf, X_train, y_train_5, cv=3, method=\"decision_function\")\n",
        "\n",
        "\n",
        "from sklearn.metrics import precision_recall_curve\n",
        "precisions, recalls, thresholds = precision_recall_curve(y_train_5,y_scores)\n",
        "\n",
        "\n",
        "def plot_precision_recall_vs_threshold(precisions, recalls, thresholds):\n",
        "  plt.plot(thresholds, precisions[:-1], \"b--\", label=\"Precision\")\n",
        "  plt.plot(thresholds, recalls[:-1], \"g-\", label=\"Recall\")\n",
        "  plt.legend()\n",
        "  plt.xlabel('Umbral')\n",
        "  plt.ylabel('Precision y Recall')\n",
        "  plt.xticks(rotation=30)\n",
        "  plt.grid(axis=\"both\", alpha=0.7)\n",
        "  plt.show()\n",
        "\n",
        "plot_precision_recall_vs_threshold(precisions, recalls, thresholds)\n"
      ],
      "execution_count": null,
      "outputs": [
        {
          "output_type": "display_data",
          "data": {
            "image/png": "[encoded data removed]",
            "text/plain": [
              "<Figure size 432x288 with 1 Axes>"
            ]
          },
          "metadata": {
            "tags": [],
            "needs_background": "light"
          }
        }
      ]
    },
    {
      "cell_type": "markdown",
      "metadata": {
        "id": "47y-f9xra0Yo"
      },
      "source": [
        "El punto donde se encuentra la mejor relacion entre precision y recall seria aquel donde se cruzan ambas curvas. Sin embargo uno, segun el problema que este abordando, puede elegir un punto menos optimo pero que arroja mayor precision o mayor recall, segun la necesidad.\n",
        "\n",
        "Por otro lado es interesante ver que pasa con la curva de precision (azul) que tiene un minimo local para valores muy bajos de recall. \n",
        "Dejo como tarea para el futuro evaluar esto con mas detalle.\n",
        "Otro analisis que podemos hacer es el que proporciona la curva ROC. Esta curva permite ver, de forma grafica, cuan lejos esta nuestro clasificador de uno ideal. Ojo, aca habria que mirar con un poco mas de cariño este analisis y sacar algo mas jugoso que esto que estoy diciendo."
      ]
    },
    {
      "cell_type": "code",
      "metadata": {
        "colab": {
          "base_uri": "https://localhost:8080/",
          "height": 295
        },
        "id": "y970IhbvbczO",
        "outputId": "475e49e6-940c-49c2-bde0-1f28d36aaeae"
      },
      "source": [
        "from sklearn.metrics import roc_curve\n",
        "fpr, tpr, thresholds = roc_curve(y_train_5, y_scores)\n",
        "def plot_roc_curve(fpr, tpr, label=None):\n",
        "  plt.plot(fpr, tpr, linewidth=2, label=None)\n",
        "  plt.plot([0, 1], [0, 1], 'k--') # Dashed diagonal\n",
        "  plt.ylabel(\"Recall\")\n",
        "  plt.xlabel(\"Falsos positivos\")\n",
        "  plt.title(\"Curva ROC\")\n",
        "  plt.grid(axis=\"both\", alpha=0.75)\n",
        "  plt.show()\n",
        "\n",
        "plot_roc_curve(fpr, tpr)\n"
      ],
      "execution_count": null,
      "outputs": [
        {
          "output_type": "display_data",
          "data": {
            "image/png": "[encoded data removed]",
            "text/plain": [
              "<Figure size 432x288 with 1 Axes>"
            ]
          },
          "metadata": {
            "tags": [],
            "needs_background": "light"
          }
        }
      ]
    },
    {
      "cell_type": "markdown",
      "metadata": {
        "id": "FC3sXSIfjOjp"
      },
      "source": [
        "## Clasificador multiclase\n",
        "\n",
        "Ya probamos armar un clasificador binario para el problema, sin embargo ese no era nuestro objetivo inicial. Ahora vamos a probar armar un clasificador multiclase (10) para poder identificar cada uno de los digitos del sistema decimal. \n"
      ]
    },
    {
      "cell_type": "code",
      "metadata": {
        "colab": {
          "base_uri": "https://localhost:8080/"
        },
        "id": "8Un0_IGRo-Gr",
        "outputId": "1f80b172-b1d7-44a9-d935-55b8b7a6a2aa"
      },
      "source": [
        "sgd_clf_multi = SGDClassifier(random_state=42)\n",
        "score = val_cruzada_score(k_folds,sgd_clf_multi,X_train,y_train)\n",
        "print(score)"
      ],
      "execution_count": null,
      "outputs": [
        {
          "output_type": "stream",
          "text": [
            "/usr/local/lib/python3.7/dist-packages/sklearn/model_selection/_split.py:296: FutureWarning: Setting a random_state has no effect since shuffle is False. This will raise an error in 0.24. You should leave random_state to its default (None), or set shuffle=True.\n",
            "  FutureWarning\n"
          ],
          "name": "stderr"
        },
        {
          "output_type": "stream",
          "text": [
            "[0.87365, 0.85835, 0.8689]\n"
          ],
          "name": "stdout"
        }
      ]
    },
    {
      "cell_type": "code",
      "metadata": {
        "colab": {
          "base_uri": "https://localhost:8080/"
        },
        "id": "ClpPS20wLm2c",
        "outputId": "d7227bc3-2137-47a6-ce7a-a8399bba542b"
      },
      "source": [
        "etiquetas = np.unique(y)\n",
        "print(etiquetas)"
      ],
      "execution_count": null,
      "outputs": [
        {
          "output_type": "stream",
          "text": [
            "['0' '1' '2' '3' '4' '5' '6' '7' '8' '9']\n"
          ],
          "name": "stdout"
        }
      ]
    },
    {
      "cell_type": "code",
      "metadata": {
        "colab": {
          "base_uri": "https://localhost:8080/",
          "height": 281
        },
        "id": "tEyTVEs8MCCj",
        "outputId": "56ad3566-c117-4d59-8601-592d9ecdde6c"
      },
      "source": [
        "y_train_pred_multi = cross_val_predict(sgd_clf_multi, X_train, y_train, cv=3)\n",
        "cm_multi = confusion_matrix(y_train, y_train_pred_multi)\n",
        "df_cm_multi = pd.DataFrame(cm_multi, index=etiquetas, columns=etiquetas)\n",
        "\n",
        "plt.figure()\n",
        "show_confusion_matrix(df_cm_multi)"
      ],
      "execution_count": null,
      "outputs": [
        {
          "output_type": "display_data",
          "data": {
            "image/png": "[encoded data removed]",
            "text/plain": [
              "<Figure size 432x288 with 2 Axes>"
            ]
          },
          "metadata": {
            "tags": [],
            "needs_background": "light"
          }
        }
      ]
    },
    {
      "cell_type": "code",
      "metadata": {
        "colab": {
          "base_uri": "https://localhost:8080/"
        },
        "id": "OLmuMZUCQiHw",
        "outputId": "1a03910d-a8eb-47a2-93df-6adf438fdd5e"
      },
      "source": [
        "reporte = classification_report(y_train, y_train_pred_multi, target_names=etiquetas)\n",
        "print(reporte)"
      ],
      "execution_count": null,
      "outputs": [
        {
          "output_type": "stream",
          "text": [
            "              precision    recall  f1-score   support\n",
            "\n",
            "           0       0.94      0.95      0.95      5923\n",
            "           1       0.96      0.95      0.95      6742\n",
            "           2       0.86      0.87      0.86      5958\n",
            "           3       0.90      0.81      0.85      6131\n",
            "           4       0.85      0.91      0.88      5842\n",
            "           5       0.77      0.85      0.81      5421\n",
            "           6       0.90      0.95      0.93      5918\n",
            "           7       0.88      0.83      0.85      6265\n",
            "           8       0.81      0.80      0.80      5851\n",
            "           9       0.78      0.75      0.76      5949\n",
            "\n",
            "    accuracy                           0.87     60000\n",
            "   macro avg       0.87      0.87      0.87     60000\n",
            "weighted avg       0.87      0.87      0.87     60000\n",
            "\n"
          ],
          "name": "stdout"
        }
      ]
    },
    {
      "cell_type": "markdown",
      "metadata": {
        "id": "Coh60Zh6Utin"
      },
      "source": [
        "Mirando la matriz de confusion y la precision y el recall obtenido para cada clase podemos ver que distingue entre las distintas clases de forma parecida. La clase que pero predice es la correspondiente al 9, donde vemos que tiene una precision de 0.78, o sea, que de todos los 9 que predice, el 78% lo son de verdad. Y un recall de 0.75, o sea, que encuentra el 75% de los nueves que le muestran. \n",
        "Una cosa que podemos hacer es graficar la matriz de confusion resaltando el valor de cada casillero segun su color. Esto facilita la visualizacion. Ademas podemos descartar la diagonal, que sabemos que tiene que ser lo mas parecida a 1 posible. De esta forma resaltamos los errores cometidos."
      ]
    },
    {
      "cell_type": "code",
      "metadata": {
        "colab": {
          "base_uri": "https://localhost:8080/",
          "height": 283
        },
        "id": "wZFRw_02W_gQ",
        "outputId": "cc9f7f27-5dab-44ce-ce11-8d59fee248b5"
      },
      "source": [
        "plt.imshow(cm_multi)"
      ],
      "execution_count": null,
      "outputs": [
        {
          "output_type": "execute_result",
          "data": {
            "text/plain": [
              "<matplotlib.image.AxesImage at 0x7fcac907bb50>"
            ]
          },
          "metadata": {
            "tags": []
          },
          "execution_count": 20
        },
        {
          "output_type": "display_data",
          "data": {
            "image/png": "[encoded data removed]",
            "text/plain": [
              "<Figure size 432x288 with 1 Axes>"
            ]
          },
          "metadata": {
            "tags": [],
            "needs_background": "light"
          }
        }
      ]
    },
    {
      "cell_type": "markdown",
      "metadata": {
        "id": "rjrMs0cYYmpN"
      },
      "source": [
        "Para visualizar el error vamos a normalizar la matriz por la cantidad de elmentos en cada clase, para poder comparar el error relativo y no el error absoluto. Esto significa que vamos a dividir cada fila (cantidad real) por la cantidad total de esa clase. Ademas, como dijimos, vamos a sacar la diagonal para resaltar los errores.\n"
      ]
    },
    {
      "cell_type": "code",
      "metadata": {
        "colab": {
          "base_uri": "https://localhost:8080/",
          "height": 283
        },
        "id": "lswKYsmiY1xP",
        "outputId": "6a7aa572-27ba-4672-bcfe-eced5639be29"
      },
      "source": [
        "row_sums = cm_multi.sum(axis=1, keepdims=True)\n",
        "cm_multi_norm = cm_multi / row_sums\n",
        "np.fill_diagonal(cm_multi_norm, 0) #bastante molesto que esto sea inplace\n",
        "plt.imshow(cm_multi_norm)\n",
        "plt.colorbar()"
      ],
      "execution_count": null,
      "outputs": [
        {
          "output_type": "execute_result",
          "data": {
            "text/plain": [
              "<matplotlib.colorbar.Colorbar at 0x7fcac8fd13d0>"
            ]
          },
          "metadata": {
            "tags": []
          },
          "execution_count": 21
        },
        {
          "output_type": "display_data",
          "data": {
            "image/png": "[encoded data removed]",
            "text/plain": [
              "<Figure size 432x288 with 2 Axes>"
            ]
          },
          "metadata": {
            "tags": [],
            "needs_background": "light"
          }
        }
      ]
    },
    {
      "cell_type": "markdown",
      "metadata": {
        "id": "ofsR3wy9cFpX"
      },
      "source": [
        "Se puede ver que la matriz de error indica algunas cosas que ya habiamos visto. \n",
        "La clase del 9 es una de las que mas confude. En particular muchos 9 que el sistema predice son en realidad 7, y muchos 9 de verdad el sistema los confunde con 4 y 7.\n",
        "\n",
        "## Conjunto de TEST\n",
        "\n",
        "Ahora que terminamos de evaluar cuan bueno o malo es el modelo podemos medir las mismas metricas sobre el conjunto de test. Los resultados que obtengamos aca son los que debemos reportar.\n",
        "\n",
        "\n",
        "\n",
        "\n",
        "\n",
        "\n",
        "\n",
        "\n",
        "\n",
        "\n",
        "\n",
        "\n",
        "\n",
        "\n",
        "\n",
        "\n",
        "\n",
        "\n",
        "\n",
        "\n",
        "\n",
        "\n",
        "\n",
        "\n",
        "\n",
        "\n",
        "\n",
        "\n",
        "\n",
        "\n",
        "\n",
        "\n",
        "\n",
        "\n",
        "\n",
        "\n",
        "\n",
        "\n",
        "\n",
        "\n",
        "\n",
        "\n",
        "\n",
        "\n",
        "\n",
        "\n",
        "\n",
        "\n",
        "\n",
        "\n",
        "\n",
        "\n",
        "\n",
        "\n",
        "\n",
        "\n",
        "\n"
      ]
    },
    {
      "cell_type": "code",
      "metadata": {
        "id": "qG6EXkJHvRRd"
      },
      "source": [
        "sgd_clf_multi.fit(X_train, y_train)\n",
        "y_test_pred_multi = sgd_clf_multi.predict(X_test)\n",
        "cm_test_multi = confusion_matrix(y_test, y_test_pred_multi)\n",
        "reporte_test = classification_report(y_test, y_test_pred_multi, target_names=etiquetas)"
      ],
      "execution_count": null,
      "outputs": []
    },
    {
      "cell_type": "code",
      "metadata": {
        "colab": {
          "base_uri": "https://localhost:8080/",
          "height": 587
        },
        "id": "CjodwbjhxsPB",
        "outputId": "07206d01-6604-4723-c6f2-a6fd9a9ecce5"
      },
      "source": [
        "print(reporte_test)\n",
        "df_cm_multi_test = pd.DataFrame(cm_test_multi, index=etiquetas, columns=etiquetas)\n",
        "\n",
        "plt.figure()\n",
        "show_confusion_matrix(df_cm_multi_test)"
      ],
      "execution_count": null,
      "outputs": [
        {
          "output_type": "stream",
          "text": [
            "              precision    recall  f1-score   support\n",
            "\n",
            "           0       0.98      0.92      0.95       980\n",
            "           1       0.97      0.96      0.97      1135\n",
            "           2       0.93      0.78      0.85      1032\n",
            "           3       0.78      0.92      0.84      1010\n",
            "           4       0.96      0.79      0.87       982\n",
            "           5       0.86      0.79      0.83       892\n",
            "           6       0.96      0.89      0.93       958\n",
            "           7       0.93      0.89      0.91      1028\n",
            "           8       0.65      0.90      0.75       974\n",
            "           9       0.84      0.87      0.86      1009\n",
            "\n",
            "    accuracy                           0.87     10000\n",
            "   macro avg       0.89      0.87      0.87     10000\n",
            "weighted avg       0.89      0.87      0.88     10000\n",
            "\n"
          ],
          "name": "stdout"
        },
        {
          "output_type": "display_data",
          "data": {
            "image/png": "[encoded data removed]",
            "text/plain": [
              "<Figure size 432x288 with 2 Axes>"
            ]
          },
          "metadata": {
            "tags": [],
            "needs_background": "light"
          }
        }
      ]
    },
    {
      "cell_type": "code",
      "metadata": {
        "colab": {
          "base_uri": "https://localhost:8080/",
          "height": 283
        },
        "id": "IiTLD46jyNG5",
        "outputId": "129f98c4-304c-4b0f-fe34-1d6b235e2055"
      },
      "source": [
        "row_sums = cm_test_multi.sum(axis=1, keepdims=True)\n",
        "cm_multi_norm_test = cm_test_multi / row_sums\n",
        "np.fill_diagonal(cm_multi_norm_test, 0) #bastante molesto que esto sea inplace\n",
        "plt.imshow(cm_multi_norm_test)\n",
        "plt.colorbar()"
      ],
      "execution_count": null,
      "outputs": [
        {
          "output_type": "execute_result",
          "data": {
            "text/plain": [
              "<matplotlib.colorbar.Colorbar at 0x7fcac8d87bd0>"
            ]
          },
          "metadata": {
            "tags": []
          },
          "execution_count": 24
        },
        {
          "output_type": "display_data",
          "data": {
            "image/png": "[encoded data removed]",
            "text/plain": [
              "<Figure size 432x288 with 2 Axes>"
            ]
          },
          "metadata": {
            "tags": [],
            "needs_background": "light"
          }
        }
      ]
    },
    {
      "cell_type": "markdown",
      "metadata": {
        "id": "nlC3mwZgyg4Z"
      },
      "source": [
        "En el conjunto de test obtenemos nuevamente buenos resultados, pero el error es levemente distinto al que obtuvimos sobre el conjunto de train. Quizas habria que investigar un poco mas sobre esto, podria estar hablandonos sobre alguna diferencia en la distribucion de datos entre ambos conjuntos o algo por el estilo."
      ]
    },
    {
      "cell_type": "markdown",
      "metadata": {
        "id": "xkJ-tB-oy0rx"
      },
      "source": [
        "## Multi Label y Multi output\n",
        "\n",
        "Son dos casos que agregan algo de complejidad a lo que ya vimos, pero que por ahora voy a dejar para ver mas adelante."
      ]
    },
    {
      "cell_type": "markdown",
      "metadata": {
        "id": "5r3dejao04Tq"
      },
      "source": [
        "## COSAS PARA HACER\n",
        "\n",
        "1. Ver clasificadores multi-label y multi-output.\n",
        "2. Los ejercicios que propone el libro.\n",
        "3. Probar el clasificador XGboost y algunos otros de Sklearn."
      ]
    }
  ]
}