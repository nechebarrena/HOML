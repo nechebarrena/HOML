{
  "nbformat": 4,
  "nbformat_minor": 0,
  "metadata": {
    "colab": {
      "name": "HOML_cap_8.ipynb",
      "provenance": [],
      "authorship_tag": "ABX9TyOWtfAggEwKOa7JhcMez0kZ",
      "include_colab_link": true
    },
    "kernelspec": {
      "name": "python3",
      "display_name": "Python 3"
    },
    "language_info": {
      "name": "python"
    }
  },
  "cells": [
    {
      "cell_type": "markdown",
      "metadata": {
        "id": "view-in-github",
        "colab_type": "text"
      },
      "source": [
        "<a href=\"https://colab.research.google.com/github/nechebarrena/HOML/blob/main/HOML_cap_8.ipynb\" target=\"_parent\"><img src=\"https://colab.research.google.com/assets/colab-badge.svg\" alt=\"Open In Colab\"/></a>"
      ]
    },
    {
      "cell_type": "markdown",
      "metadata": {
        "id": "TLVx_Hs-Qlad"
      },
      "source": [
        "# **CAPITULO 8 - HANDS ON MACHINE LEARNING**\n",
        "## **Reduccion de dimensionalidad**\n",
        "\n",
        "Existen muchos problemas donde contamos con enormes cantidades de atributos. En general, tener muchos atributos, vuelve mas complejo al problema y uno mucha veces necesita simplificarlo. Una forma de hacer esto es reducir la cantidad de atributos que nuestro modelo va a procesar, para eso existen diversas tecnicas de reduccion de la dimensionalidad. Ademas, estas mismas tecnicas muchas veces se utilizan con el objetivo de ayudar a la visualizacion de ciertos aspectos del problema. Para estos dos objetivos el libro propone tratar las tres tecnicas princiapes, PCA, Kernel PCA, y LLE.\n",
        "\n"
      ]
    },
    {
      "cell_type": "markdown",
      "metadata": {
        "id": "RBN6HOICldeV"
      },
      "source": [
        "El principal problema de los sistemas con un gran numero de dimensiones es que conforme aumenta la cantidad de estas, aumenta la necesidad de datos de entrenamiento para llenar el espacio de fases. Esto se debe a que, para simplificar, al aumentar la cantidad de dimensiones aumenta el volumen del espacio y por lo tanto la cantidad de puntos que lo llenan. Esto a su vez tiene otra consecuencia un poco menos intuitiva, cuanto mas grande es la cantidad de dimensiones los puntos tienden a concentrarse mas sobre la superficie del volumen. Esto significa que en general la distancia entre 2 puntos tiende a ser mayor y por lo tanto, cuando entrenemos un modelo que haga una interpolacion entre ambos sera menos preciso. "
      ]
    },
    {
      "cell_type": "markdown",
      "metadata": {
        "id": "M8EyzgcDCsUk"
      },
      "source": [
        "### **Metodos principales** \n",
        "\n",
        "Existen 2 metodos que son los principales a la hora de implementar una reduccion de dimensionalidad que vamos a ver a continuacion:\n",
        "\n",
        "#### **Proyeccion**\n",
        "\n",
        "Muchas veces los datos experimentales con los que contamos pueden ser proyectados en sub espacios del espacio original. Esta proyeccion implica perder alguna dimension original del problema, o sea, perder informacion. Sin embargo, uno puede buscar cual es el sub espacio que permite reducir la dimension minimizando la perdida de informacion. Para eso debemos buscar cual es este sub espacio \"que se parece\" a los datos.\n",
        "\n",
        "En las figuras $8.2$ y $8.3$ del libro se muestra un ejemplo de esto que deja bastante clara esta situacion y lo que se busca.\n",
        "\n",
        "#### **Aprendizaje con Manifolds**\n",
        "\n",
        "Un _d-manifold_ es una superficie \"enrollada\" en un espacio de _d_ dimensiones dentro de un espacio mayor de _n_ dimensiones. Esto que suena dificil de explicar es muy facil de ver. En la figura $8.4$ del libro se muestra un ejemplo muy claro. Se puede ver una nube de puntos en _3-D_ que sin embargo puede ser \"desenrrollada\" en un plano _2-D_.\n",
        "\n",
        "La hipotesis detras de estos metodos consta en general de 2 partes. La primera es la que ya mencionamos, que los datos pueden expresarse en un espacion menor con una perdida muy chica de informacion. La segunda parte de la hipotesis es que uno luego puede realizar una tarea posterior (clasificacion, regresion, etc) sobre este nuevo espacio de forma mas sencilla. Esta segunda hipotesis no siempre es cierta. La figura $8.6$ del libro ejemplifica esto con un conjunto de datos donde una tarea de clasificacion resulta mas \"sencilla\" sobre el espacio original que sobre el espacio reducido.\n",
        "\n",
        "Ahora que vimos por arriba la idea general de la reduccion de dimensionalidad veamos algunos de los metodos las utilizados.\n"
      ]
    },
    {
      "cell_type": "markdown",
      "metadata": {
        "id": "UwcVmQhGOKby"
      },
      "source": [
        "\n",
        "### **PCA**\n",
        "\n",
        "El metodo de analisis de componentes principales (PCA en ingles) es el mas utilizado y comun al dia de hoy. La idea de este algortimo es, tal como explicamos inicialmente, buscar el subespacio que mas se parece a los datos y proyectar estos sobre el. \n",
        "\n",
        "#### **Conservando la varianza**\n",
        "\n",
        "El primer paso del metodo es encontrar cual es el hiperplano donde se puedan proyectar los datos con la menor perdida de informacion posible. Para eso vamos a buscar un hiperplano donde, luego de proyectar, nos quedemos con la maxima varianza posible de la original."
      ]
    },
    {
      "cell_type": "code",
      "metadata": {
        "colab": {
          "base_uri": "https://localhost:8080/",
          "height": 452
        },
        "id": "_UEHpVBRabfY",
        "outputId": "b1b5de40-656c-44e7-f1ef-39c04370176c"
      },
      "source": [
        "import numpy as np\n",
        "import matplotlib.pyplot as plt\n",
        "import pandas as pd\n",
        "\n",
        "angulo = 0.25*np.pi\n",
        "\n",
        "puntos = pd.DataFrame()\n",
        "\n",
        "\n",
        "mu_x = 0\n",
        "sigma_x = 20\n",
        "mu_y = 0\n",
        "sigma_y = 2\n",
        "\n",
        "\n",
        "x = np.random.normal(mu_x, sigma_x, 1000)\n",
        "y = np.random.normal(mu_y, sigma_y, 1000)\n",
        "puntos['X'] = x\n",
        "puntos['Y'] = y\n",
        "\n",
        "\n",
        "puntos['X_p'] = puntos.apply(lambda row: np.cos(angulo)*row['X'] - np.sin(angulo)*row['Y'] , axis=1)\n",
        "puntos['Y_p'] = puntos.apply(lambda row: np.sin(angulo)*row['X'] + np.cos(angulo)*row['Y'] , axis=1)\n",
        "\n",
        "\n",
        "plt.scatter(puntos['X'],puntos['Y'],alpha=0.5)\n",
        "plt.scatter(puntos['X_p'],puntos['Y_p'],alpha=0.5)\n",
        "puntos.head()"
      ],
      "execution_count": 1,
      "outputs": [
        {
          "output_type": "execute_result",
          "data": {
            "text/html": [
              "<div>\n",
              "<style scoped>\n",
              "    .dataframe tbody tr th:only-of-type {\n",
              "        vertical-align: middle;\n",
              "    }\n",
              "\n",
              "    .dataframe tbody tr th {\n",
              "        vertical-align: top;\n",
              "    }\n",
              "\n",
              "    .dataframe thead th {\n",
              "        text-align: right;\n",
              "    }\n",
              "</style>\n",
              "<table border=\"1\" class=\"dataframe\">\n",
              "  <thead>\n",
              "    <tr style=\"text-align: right;\">\n",
              "      <th></th>\n",
              "      <th>X</th>\n",
              "      <th>Y</th>\n",
              "      <th>X_p</th>\n",
              "      <th>Y_p</th>\n",
              "    </tr>\n",
              "  </thead>\n",
              "  <tbody>\n",
              "    <tr>\n",
              "      <th>0</th>\n",
              "      <td>-0.378190</td>\n",
              "      <td>0.427116</td>\n",
              "      <td>-0.569437</td>\n",
              "      <td>0.034595</td>\n",
              "    </tr>\n",
              "    <tr>\n",
              "      <th>1</th>\n",
              "      <td>-11.014993</td>\n",
              "      <td>1.651343</td>\n",
              "      <td>-8.956452</td>\n",
              "      <td>-6.621100</td>\n",
              "    </tr>\n",
              "    <tr>\n",
              "      <th>2</th>\n",
              "      <td>10.225980</td>\n",
              "      <td>1.624423</td>\n",
              "      <td>6.082220</td>\n",
              "      <td>8.379500</td>\n",
              "    </tr>\n",
              "    <tr>\n",
              "      <th>3</th>\n",
              "      <td>-1.579312</td>\n",
              "      <td>0.876504</td>\n",
              "      <td>-1.736524</td>\n",
              "      <td>-0.496960</td>\n",
              "    </tr>\n",
              "    <tr>\n",
              "      <th>4</th>\n",
              "      <td>-8.476195</td>\n",
              "      <td>0.881279</td>\n",
              "      <td>-6.616733</td>\n",
              "      <td>-5.370417</td>\n",
              "    </tr>\n",
              "  </tbody>\n",
              "</table>\n",
              "</div>"
            ],
            "text/plain": [
              "           X         Y       X_p       Y_p\n",
              "0  -0.378190  0.427116 -0.569437  0.034595\n",
              "1 -11.014993  1.651343 -8.956452 -6.621100\n",
              "2  10.225980  1.624423  6.082220  8.379500\n",
              "3  -1.579312  0.876504 -1.736524 -0.496960\n",
              "4  -8.476195  0.881279 -6.616733 -5.370417"
            ]
          },
          "metadata": {
            "tags": []
          },
          "execution_count": 1
        },
        {
          "output_type": "display_data",
          "data": {
            "image/png": "[encoded data removed]",
            "text/plain": [
              "<Figure size 432x288 with 1 Axes>"
            ]
          },
          "metadata": {
            "tags": [],
            "needs_background": "light"
          }
        }
      ]
    },
    {
      "cell_type": "markdown",
      "metadata": {
        "id": "ThT9QMgnmFSs"
      },
      "source": [
        "Para encontrar el hiperplano que maximiza la varianza de los datos se puede usar el metodo de SVD para descomponer la matrix original de los datos $\\mathbf{X}$ en tres matrices $\\mathbf{U\\Sigma}$$\\mathbf{V}^\\intercal$. La matrix $\\mathbf{V}$ contiene los vectores que describen el hiperplano buscado.\n",
        "Aca el libro no justifica por que esto es asi, solo lo cuenta. Quizas valga la pena hacer el ejercicio de ver como funciona esta descomposicion y porque da esto.\n",
        "\n",
        "Ahora vamos a tratar de hacer esto utilizando un metodo de numpy para realizar una descomposicion SVD.\n"
      ]
    },
    {
      "cell_type": "code",
      "metadata": {
        "colab": {
          "base_uri": "https://localhost:8080/",
          "height": 301
        },
        "id": "aL3iey-J4v3N",
        "outputId": "45ad3072-c297-489a-edc3-add7a8b36419"
      },
      "source": [
        "puntos_originales = pd.DataFrame()\n",
        "puntos_originales['X'] = puntos['X_p']\n",
        "puntos_originales['Y'] = puntos['Y_p']\n",
        "U, s, Vt = np.linalg.svd(puntos_originales)\n",
        "c1 = Vt.T[:, 0]\n",
        "c2 = Vt.T[:, 1]\n",
        "print(c1,c2)\n",
        "\n",
        "plt.scatter(puntos['X'],puntos['Y'],alpha=0.5)\n",
        "plt.scatter(puntos['X_p'],puntos['Y_p'],alpha=0.5)\n",
        "plt.plot([0,70*c1[0]],[0,70*c1[1]],color=\"red\",linewidth=4,label=\"C1\",linestyle=\"--\")\n",
        "plt.plot([0,-35*c2[0]],[0,-35*c2[1]],color=\"green\",linewidth=4,label=\"C2\",linestyle=\"--\")\n",
        "plt.legend()"
      ],
      "execution_count": 2,
      "outputs": [
        {
          "output_type": "stream",
          "text": [
            "[0.70467015 0.70953504] [ 0.70953504 -0.70467015]\n"
          ],
          "name": "stdout"
        },
        {
          "output_type": "execute_result",
          "data": {
            "text/plain": [
              "<matplotlib.legend.Legend at 0x7fed2fcc1e50>"
            ]
          },
          "metadata": {
            "tags": []
          },
          "execution_count": 2
        },
        {
          "output_type": "display_data",
          "data": {
            "image/png": "[encoded data removed]",
            "text/plain": [
              "<Figure size 432x288 with 1 Axes>"
            ]
          },
          "metadata": {
            "tags": [],
            "needs_background": "light"
          }
        }
      ]
    },
    {
      "cell_type": "markdown",
      "metadata": {
        "id": "MKS_sfaE8PyH"
      },
      "source": [
        "Para poder hacer uso de la descomposicion SVD debemos tener los datos centrados en el origen de coordenadas. Vamos a ver cuando usemos Sklearn que el metodo PCA se encarga por nosotros de hacer la traslacion si fuese necesaria.\n",
        "\n",
        "Una vez que encontramos el hiperplano lo que debemos hacer es proyectar los datos sobre el. En este caso podemos elegir sobre cuantas dimensiones proyectamos, con lo cual estamos deciciendo cuantas dimensiones queremos que tenga nuestro set de datos. En el caso ejemplificado con datos en dos dimensiones solo podemos tirar una (C2) y quedarnos con la coordenada C1 que es la que mas varianza conserva. Para realizar la proyeccion debemos hacer:\n",
        "\n",
        "$\\mathbf{X_{d-proy}} = \\mathbf{XW_d}$\n",
        "\n",
        "Donde $\\mathbf{X_{d-proy}}$ es el nuevo dataset reducido, $\\mathbf{X}$ es el dataset original y $\\mathbf{W_d}$ es la matriz que contiene los $d$ primeros vectores de $\\mathbf{V}$."
      ]
    },
    {
      "cell_type": "code",
      "metadata": {
        "colab": {
          "base_uri": "https://localhost:8080/",
          "height": 299
        },
        "id": "2DUwWd3voZP_",
        "outputId": "ad74eb6c-5b21-470d-eb64-94bc5c012094"
      },
      "source": [
        "puntos_reducidos =puntos_originales.dot(c1)\n",
        "plt.scatter(puntos_reducidos,np.zeros(len(puntos_reducidos)))\n",
        "plt.title(\"Proyeccion en 1-D\")"
      ],
      "execution_count": 3,
      "outputs": [
        {
          "output_type": "execute_result",
          "data": {
            "text/plain": [
              "Text(0.5, 1.0, 'Proyeccion en 1-D')"
            ]
          },
          "metadata": {
            "tags": []
          },
          "execution_count": 3
        },
        {
          "output_type": "display_data",
          "data": {
            "image/png": "[encoded data removed]",
            "text/plain": [
              "<Figure size 432x288 with 1 Axes>"
            ]
          },
          "metadata": {
            "tags": [],
            "needs_background": "light"
          }
        }
      ]
    },
    {
      "cell_type": "markdown",
      "metadata": {
        "id": "XDjLB3TKpkeq"
      },
      "source": [
        "#### **Usando SkLearn**\n",
        "\n",
        "Por suerte Sklearn una vez mas nos ofrece una solucion empaquetada para poder implementar el metodo PCA sin realizar todos estos pasos. El metodo se encarga de centrar los datos y realizar la proyeccion al numero de dimensiones que nosotros seleccionemos.\n"
      ]
    },
    {
      "cell_type": "code",
      "metadata": {
        "colab": {
          "base_uri": "https://localhost:8080/",
          "height": 299
        },
        "id": "e8lMmzhHqLUI",
        "outputId": "4431dbb1-6261-40fe-b96e-477608316bae"
      },
      "source": [
        "from sklearn.decomposition import PCA\n",
        "pca = PCA(n_components = 2)\n",
        "puntos_reducidos_skl = pca.fit_transform(puntos_originales)\n",
        "plt.scatter(puntos_reducidos,np.zeros(len(puntos_reducidos_skl)))\n",
        "plt.title(\"Proyeccion en 1-D utilizando SKlearn\")"
      ],
      "execution_count": 11,
      "outputs": [
        {
          "output_type": "execute_result",
          "data": {
            "text/plain": [
              "Text(0.5, 1.0, 'Proyeccion en 1-D utilizando SKlearn')"
            ]
          },
          "metadata": {
            "tags": []
          },
          "execution_count": 11
        },
        {
          "output_type": "display_data",
          "data": {
            "image/png": "[encoded data removed]",
            "text/plain": [
              "<Figure size 432x288 with 1 Axes>"
            ]
          },
          "metadata": {
            "tags": [],
            "needs_background": "light"
          }
        }
      ]
    },
    {
      "cell_type": "markdown",
      "metadata": {
        "id": "753dGuQ9q61Y"
      },
      "source": [
        "Si queremos saber cuales son los vectores de la descomposicion $\\mathbf{W_d}$ podemos buscarlos en los atributos del objeto."
      ]
    },
    {
      "cell_type": "code",
      "metadata": {
        "colab": {
          "base_uri": "https://localhost:8080/"
        },
        "id": "5_tWGH2prJBS",
        "outputId": "45f9f616-7da0-44d1-d2dc-c1d32a15f4fa"
      },
      "source": [
        "print(\"Direccion encontrada con SkLearn = \",pca.components_.T[:, 0])\n",
        "print(\"Direccion encontrada con SVD = \", c1)"
      ],
      "execution_count": 12,
      "outputs": [
        {
          "output_type": "stream",
          "text": [
            "Direccion encontrada con SkLearn =  [-0.70472181 -0.70948374]\n",
            "Direccion encontrada con SVD =  [0.70467015 0.70953504]\n"
          ],
          "name": "stdout"
        }
      ]
    },
    {
      "cell_type": "markdown",
      "metadata": {
        "id": "N4Fx7YHEpJ_i"
      },
      "source": [
        "Porcentaje de varianza"
      ]
    },
    {
      "cell_type": "code",
      "metadata": {
        "colab": {
          "base_uri": "https://localhost:8080/"
        },
        "id": "TAb0Mp3ApO5a",
        "outputId": "e0dc9e5f-2528-4adb-f76f-dae1dba19921"
      },
      "source": [
        "var_p = pca.explained_variance_ratio_\n",
        "print(var_p)"
      ],
      "execution_count": 13,
      "outputs": [
        {
          "output_type": "stream",
          "text": [
            "[0.98926868 0.01073132]\n"
          ],
          "name": "stdout"
        }
      ]
    },
    {
      "cell_type": "markdown",
      "metadata": {
        "id": "ToMTnBIAuTVL"
      },
      "source": [
        "#### **Eligiendo la cantidad de dimensiones**\n",
        "\n",
        "En general existen dos criterios distintos para la eleccion de la cantidad de dimensiones. EL primero es cuando deseamos visualizar algo. En este caso estamos obligados a quedarnos con 2 o 3 dimensiones independientemente de las dimensiones originales. \n",
        "\n",
        "El segundo caso es aquel donde fijamos un umbral de varianza minima que deseamos capturar. Este umbral de varianza minima, por ejemplo $80\\%$, nos indica que debemos incluir todas las dimensiones necesarias para llegar a contener el $80\\%$ de la varianza total del problema.\n",
        "\n",
        "#### **Compresion con PCA**\n",
        "\n",
        "Al reducir la cantidad de dimensiones utilizada lo que estamos haciendo es reducir la cantidad de informacion y por lo tanto comprimiendo los datos originales. Si a los datos reducidos le aplicamos la transformacion inversa y volvemos a la cantidad de dimensiones originales podemos recuperar un dataset muy parecido al original, pero en el proceso logramos reducir mucho su tamaño. El libro muestra como ejemplo el dataset de MINST. Para efectuar la transformacion inversa debemos hacer:\n",
        "$\\mathbf{X_{recuperado}}=\\mathbf{X_{d-proy}}\\mathbf{W_{d}^\\intercal}$\n",
        "\n",
        "#### **Metodos Incrementales y aleatorios**\n",
        "\n",
        "Sobre el metodo original existen variaciones segun ciertas necesidades. El metodo aleatorio utiliza un algoritmo estocastico para encontrar las direcciones correctas, este metodo es mas rapido cuando la cantidad de dimensiones es menor a la cantidad de datos. Otro metodo es el incremental, que lo que hace es ir calculando las dimensiones adecuadas con batches de datos y no con todo el dataset original. Esto resulve el problema de que el dataset original sea muy grande y no entre u ocupe mucha memoria.\n"
      ]
    },
    {
      "cell_type": "markdown",
      "metadata": {
        "id": "mh2xRJ3o1mfd"
      },
      "source": [
        "### **Kernel PCA**\n",
        "\n"
      ]
    }
  ]
}