{
  "nbformat": 4,
  "nbformat_minor": 0,
  "metadata": {
    "colab": {
      "name": "HOML_cap_2.ipynb",
      "provenance": [],
      "authorship_tag": "ABX9TyNr6+Zk3gFUGhdAYdIMtM+Z",
      "include_colab_link": true
    },
    "kernelspec": {
      "name": "python3",
      "display_name": "Python 3"
    },
    "language_info": {
      "name": "python"
    }
  },
  "cells": [
    {
      "cell_type": "markdown",
      "metadata": {
        "id": "view-in-github",
        "colab_type": "text"
      },
      "source": [
        "<a href=\"https://colab.research.google.com/github/nechebarrena/HOML/blob/main/HOML_cap_2.ipynb\" target=\"_parent\"><img src=\"https://colab.research.google.com/assets/colab-badge.svg\" alt=\"Open In Colab\"/></a>"
      ]
    },
    {
      "cell_type": "markdown",
      "metadata": {
        "id": "hyBgWU60pvkd"
      },
      "source": [
        "# Capitulo 2\n",
        "\n",
        "Ejemplo End2End de aplicacion a un problema de ciencia de datos."
      ]
    },
    {
      "cell_type": "code",
      "metadata": {
        "id": "PbaBBf6RpqvR"
      },
      "source": [
        ""
      ],
      "execution_count": null,
      "outputs": []
    }
  ]
}