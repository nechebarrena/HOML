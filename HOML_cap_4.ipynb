{
  "nbformat": 4,
  "nbformat_minor": 0,
  "metadata": {
    "colab": {
      "name": "HOML_cap_4.ipynb",
      "provenance": [],
      "authorship_tag": "ABX9TyO3pb0Dc2C427HW6/YjdfWs",
      "include_colab_link": true
    },
    "kernelspec": {
      "name": "python3",
      "display_name": "Python 3"
    },
    "language_info": {
      "name": "python"
    }
  },
  "cells": [
    {
      "cell_type": "markdown",
      "metadata": {
        "id": "view-in-github",
        "colab_type": "text"
      },
      "source": [
        "<a href=\"https://colab.research.google.com/github/nechebarrena/HOML/blob/main/HOML_cap_4.ipynb\" target=\"_parent\"><img src=\"https://colab.research.google.com/assets/colab-badge.svg\" alt=\"Open In Colab\"/></a>"
      ]
    },
    {
      "cell_type": "markdown",
      "metadata": {
        "id": "CpVVmmQHIpZh"
      },
      "source": [
        "#CAPITULO 2 - HANDS ON MACHINE LEARNING\n",
        "## TRAINING MODELS\n",
        "En este archivo se encuentran los ejemplos propuestos en el capitulo y algunas anotaciones tomadas del mismo."
      ]
    },
    {
      "cell_type": "markdown",
      "metadata": {
        "id": "JwLsKFn7fSB7"
      },
      "source": [
        "Vamos a mirar como funciona una regresion lineal pero con mas detalle que en el capitulo 1. En ese capitulo vimos la implementacion de sklearn que permite resolver este problema, ahora vamos a ver como se puede pensar esta implementacion.\n",
        "\n",
        "Un modelo lineal lo podemos escribir como:\n",
        "## $\\hat y$ = $\\theta_0$ + $\\theta_1$$x_ 1$ + $\\theta_2$$x_ 2$ + ... + $\\theta_n$$x_ n$\n",
        "\n",
        "Donde $\\hat y$ es el valor predicho por el modelo, $\\theta_i$ el parametro $i$ y $x_i$ la variable $i$. En total tenemos $n$ parametros y  $n-1$ variables (independientes). \n",
        "Lo que necesitamos además es definir una metrica que mida cuan bueno es el modelo. Una vez que contamos con una medida que nos dice cuan bueno o malo es el ajuste podemos tratar de ajustar los parametros de este para mejorar dicha metrica, o sea, optimizar el modelo.\n",
        "Es comun utilizar el error cuadratico medio (MSE por sus siglas en ingles) para optimizar el modelo y encontrar los parametros de este. El MSE se define como:\n",
        "\n",
        "## MSE(**X**,$h_\\theta$) = $\\frac{1}{m}$ $\\sum_{i=1}^{m} (\\theta^t\\mathbf{x}^i - y^i)^2$\n",
        "\n",
        "Donde el resultado del modelo para el valor $i$-ésimo esta dado por $\\theta^t\\mathbf{x}^i = \\hat{y}^i$ mientras que $y^i$ representa el valor experimental conocido.\n",
        "En definitva lo que nosotros queremos hacer es minimizar el error cuadratico medio para un dado conjunto de mediciones ajustando los parametros $\\theta$ del modelo. Existe una formula matematica cerrada para resolver este problema conocida como la ecuacion normal. El libro muestra la forma de esta ecuacion y un ejemplo de su implementacion, sin embargo yo voy a obviar esta parte y pasar directamente a la implementacion de la misma usando Sklearn."
      ]
    },
    {
      "cell_type": "code",
      "metadata": {
        "id": "NRLS5pebI-pE",
        "colab": {
          "base_uri": "https://localhost:8080/",
          "height": 313
        },
        "outputId": "6d94f141-5802-4ad6-982f-44955faac89e"
      },
      "source": [
        "import numpy as np\n",
        "import matplotlib.pyplot as plt\n",
        "X = 2 * np.random.rand(100, 1)\n",
        "y = 4 + 3 * X + np.random.randn(100, 1)\n",
        "plt.plot(X,y,\"r.\",markersize=10,label=\"Datos\")\n",
        "plt.title(\"Datos experimentales\")\n",
        "plt.xlabel(\"X\")\n",
        "plt.ylabel(\"Y\")\n",
        "plt.legend()"
      ],
      "execution_count": 9,
      "outputs": [
        {
          "output_type": "execute_result",
          "data": {
            "text/plain": [
              "<matplotlib.legend.Legend at 0x7fe301b808d0>"
            ]
          },
          "metadata": {
            "tags": []
          },
          "execution_count": 9
        },
        {
          "output_type": "display_data",
          "data": {
            "image/png": "[encoded data removed]",
            "text/plain": [
              "<Figure size 432x288 with 1 Axes>"
            ]
          },
          "metadata": {
            "tags": [],
            "needs_background": "light"
          }
        }
      ]
    },
    {
      "cell_type": "markdown",
      "metadata": {
        "id": "LdusTQRxzEmq"
      },
      "source": [
        "Vamos a utilizar LinearRegression de sklearn para tratar de ajustar estos datos."
      ]
    },
    {
      "cell_type": "code",
      "metadata": {
        "colab": {
          "base_uri": "https://localhost:8080/",
          "height": 331
        },
        "id": "BW7oqTaOyPqk",
        "outputId": "ad4e1e02-2aaa-41c6-8fa7-41f7bd9b3a24"
      },
      "source": [
        "from sklearn.linear_model import LinearRegression\n",
        "lin_reg = LinearRegression()\n",
        "lin_reg.fit(X, y)\n",
        "print('Ordenada = ',lin_reg.intercept_,\",  Pendiente\" ,lin_reg.coef_)\n",
        "y_pred = lin_reg.predict(X)\n",
        "\n",
        "plt.plot(X,y,\"r.\",markersize=10,label=\"Datos\")\n",
        "plt.plot(X,y_pred, label=\"Modelo\")\n",
        "plt.title(\"Datos experimentales\")\n",
        "plt.xlabel(\"X\")\n",
        "plt.ylabel(\"Y\")\n",
        "plt.legend()"
      ],
      "execution_count": 21,
      "outputs": [
        {
          "output_type": "stream",
          "text": [
            "Ordenada =  [3.90708714] ,  Pendiente [[3.11339968]]\n"
          ],
          "name": "stdout"
        },
        {
          "output_type": "execute_result",
          "data": {
            "text/plain": [
              "<matplotlib.legend.Legend at 0x7fe2f0efc950>"
            ]
          },
          "metadata": {
            "tags": []
          },
          "execution_count": 21
        },
        {
          "output_type": "display_data",
          "data": {
            "image/png": "[encoded data removed]",
            "text/plain": [
              "<Figure size 432x288 with 1 Axes>"
            ]
          },
          "metadata": {
            "tags": [],
            "needs_background": "light"
          }
        }
      ]
    },
    {
      "cell_type": "markdown",
      "metadata": {
        "id": "XG5U4f9H2sLq"
      },
      "source": [
        "Como vemos, la implementacion es extremadamente sencilla. Sin embargo..."
      ]
    }
  ]
}