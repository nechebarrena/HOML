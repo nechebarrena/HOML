{
  "nbformat": 4,
  "nbformat_minor": 0,
  "metadata": {
    "colab": {
      "name": "HOML_cap_7.ipynb",
      "provenance": [],
      "authorship_tag": "ABX9TyO8m1S1PgCm3M5PIJcYzTr3",
      "include_colab_link": true
    },
    "kernelspec": {
      "name": "python3",
      "display_name": "Python 3"
    },
    "language_info": {
      "name": "python"
    }
  },
  "cells": [
    {
      "cell_type": "markdown",
      "metadata": {
        "id": "view-in-github",
        "colab_type": "text"
      },
      "source": [
        "<a href=\"https://colab.research.google.com/github/nechebarrena/HOML/blob/main/HOML_cap_7.ipynb\" target=\"_parent\"><img src=\"https://colab.research.google.com/assets/colab-badge.svg\" alt=\"Open In Colab\"/></a>"
      ]
    },
    {
      "cell_type": "markdown",
      "metadata": {
        "id": "dMDo-KIeNtEP"
      },
      "source": [
        "# **CAPITULO 7 - HANDS ON MACHINE LEARNING**\n",
        "## **Ensemble Learning y Random Forest**"
      ]
    }
  ]
}