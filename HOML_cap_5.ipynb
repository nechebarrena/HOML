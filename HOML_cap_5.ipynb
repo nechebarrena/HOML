{
  "nbformat": 4,
  "nbformat_minor": 0,
  "metadata": {
    "colab": {
      "name": "HOML_cap_5.ipynb",
      "provenance": [],
      "authorship_tag": "ABX9TyN0tHr+5ZgJHy4/cZkCmidA",
      "include_colab_link": true
    },
    "kernelspec": {
      "name": "python3",
      "display_name": "Python 3"
    },
    "language_info": {
      "name": "python"
    }
  },
  "cells": [
    {
      "cell_type": "markdown",
      "metadata": {
        "id": "view-in-github",
        "colab_type": "text"
      },
      "source": [
        "<a href=\"https://colab.research.google.com/github/nechebarrena/HOML/blob/main/HOML_cap_5.ipynb\" target=\"_parent\"><img src=\"https://colab.research.google.com/assets/colab-badge.svg\" alt=\"Open In Colab\"/></a>"
      ]
    },
    {
      "cell_type": "markdown",
      "metadata": {
        "id": "GTiNwdBeisUo"
      },
      "source": [
        "# CAPITULO 5 - HANDS ON MACHINE LEARNING\n",
        "## Support Vector Machines\n",
        "En este archivo se encuentran los ejemplos propuestos en el capitulo y algunas anotaciones tomadas del mismo.\n",
        "\n",
        "En este capitulo el libro el algoritmo Support Vector Machine, el cual puede ser utilizado tanto para tareas de clasificacion como de regresion.\n",
        "\n",
        "## SVM como clasificador\n",
        "\n",
        "La idea basica de todo algoritmo clasificador es poder separar en el espacio de features las distintas clases presentes en el problema. En particular el metodo de SVM busca separar las clases maximizando la distancia entre cada una de las clases y la frontera de clasificacion entre ellas. Esto se suele llamar \"Large margin classification\". La figura 5.1 del libro ejemplifica esto de forma muy clara. En realidad, la distancia que busca maximizar no es la de toda la clase (el centro de masa por ejemplo) sino la de \"la instancia mas cercana\". Esto significa que agregar instancias nuevas a una de las clases puede no cambiar en lo absoluto el resultado del algoritmo si no cambia la instancia mas cercana. A estas instancias se las llama \"support vectors\" y de ahi el nombre del algoritmo.\n",
        "\n",
        "## Hard margin classification\n",
        "Tal como explique recien, el algoritmo no permite que haya instancias que queden del lado incorrecto de la frontera entre clases. O sea, el clasificador debe lograr una clasificacion perfecta. Esto solo es posible cuando la division entre clases es lineal. En cualquier otro caso no se podra realizar. Aunque es algo deseable no siempre es posible.\n",
        "\n",
        "## Soft margin classification\n",
        "Una posible solucion para los problemas que no son separables linealmente es permitr que queden instancias \"del lado correcto\". A estas instancias las llamamos \"margin violations\" porque justamente violan la frontera encontrada. En general uno busca la minima cantidad de violaciones pero a su vez tratando de mantener la mayor generalizacion posible del algoritmo. En general las implementaciones de metodos SVM cuentan con un parametro que permite elegir entre estas dos situaciones, donde uno prefiere mas o menos cantidad de violaciones a la frontera. En Sklearn el hiperparametro que regula esto es $C$. Cuanto mas bajo es el valor de $C$ mas violaciones permitimos y cuanto mas alto, menos. El libro presenta un ejemplo de implementacion utilizando $LinearSVC$ de sklearn para el dataset de iris.\n",
        "\n"
      ]
    },
    {
      "cell_type": "code",
      "metadata": {
        "colab": {
          "base_uri": "https://localhost:8080/",
          "height": 317
        },
        "id": "iG5v0QjdtfKl",
        "outputId": "e0f78a38-cd52-402d-ba71-0cd931bfd969"
      },
      "source": [
        "import numpy as np\n",
        "import matplotlib.pyplot as plt\n",
        "import pandas as pd\n",
        "from sklearn import datasets\n",
        "from sklearn.pipeline import Pipeline\n",
        "from sklearn.preprocessing import StandardScaler\n",
        "from sklearn.svm import LinearSVC\n",
        "from sklearn.model_selection import train_test_split\n",
        "\n",
        "iris_data = datasets.load_iris()\n",
        "df_iris = pd.DataFrame(iris_data.data,columns=iris_data.feature_names)\n",
        "df_iris['target'] = pd.Series(iris_data.target)\n",
        "df_iris.head()\n",
        "etiquetas = df_iris['target'].unique()\n",
        "print(etiquetas)\n",
        "hist_max,bin_edges = np.histogram(df_iris['target'], bins=3, range=(0, 3))\n",
        "plt.bar(bin_edges[:-1], hist_max, width = 0.7,alpha=0.7,label='Etiquetas')\n",
        "plt.grid(axis=\"both\", alpha=0.7)\n",
        "plt.title('Etiquetas')\n"
      ],
      "execution_count": 24,
      "outputs": [
        {
          "output_type": "stream",
          "text": [
            "[0 1 2]\n"
          ],
          "name": "stdout"
        },
        {
          "output_type": "execute_result",
          "data": {
            "text/plain": [
              "Text(0.5, 1.0, 'Etiquetas')"
            ]
          },
          "metadata": {
            "tags": []
          },
          "execution_count": 24
        },
        {
          "output_type": "display_data",
          "data": {
            "image/png": "[encoded data removed]",
            "text/plain": [
              "<Figure size 432x288 with 1 Axes>"
            ]
          },
          "metadata": {
            "tags": [],
            "needs_background": "light"
          }
        }
      ]
    }
  ]
}