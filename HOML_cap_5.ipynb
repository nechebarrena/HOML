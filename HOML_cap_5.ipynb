{
  "nbformat": 4,
  "nbformat_minor": 0,
  "metadata": {
    "colab": {
      "name": "HOML_cap_5.ipynb",
      "provenance": [],
      "authorship_tag": "ABX9TyNIqYSbIP2celMT5xX5u+6E",
      "include_colab_link": true
    },
    "kernelspec": {
      "name": "python3",
      "display_name": "Python 3"
    },
    "language_info": {
      "name": "python"
    }
  },
  "cells": [
    {
      "cell_type": "markdown",
      "metadata": {
        "id": "view-in-github",
        "colab_type": "text"
      },
      "source": [
        "<a href=\"https://colab.research.google.com/github/nechebarrena/HOML/blob/main/HOML_cap_5.ipynb\" target=\"_parent\"><img src=\"https://colab.research.google.com/assets/colab-badge.svg\" alt=\"Open In Colab\"/></a>"
      ]
    },
    {
      "cell_type": "markdown",
      "metadata": {
        "id": "GTiNwdBeisUo"
      },
      "source": [
        "# CAPITULO 5 - HANDS ON MACHINE LEARNING\n",
        "## Support Vector Machines\n",
        "En este archivo se encuentran los ejemplos propuestos en el capitulo y algunas anotaciones tomadas del mismo.\n",
        "\n",
        "En este capitulo el libro el algoritmo Support Vector Machine, el cual puede ser utilizado tanto para tareas de clasificacion como de regresion.\n",
        "\n",
        "## SVM como clasificador\n",
        "\n",
        "La idea basica de todo algoritmo clasificador es poder separar en el espacio de features las distintas clases presentes en el problema. En particular el metodo de SVM busca separar las clases maximizando la distancia entre cada una de las clases y la frontera de clasificacion entre ellas. Esto se suele llamar \"Large margin classification\". La figura 5.1 del libro ejemplifica esto de forma muy clara. En realidad, la distancia que busca maximizar no es la de toda la clase (el centro de masa por ejemplo) sino la de \"la instancia mas cercana\". Esto significa que agregar instancias nuevas a una de las clases puede no cambiar en lo absoluto el resultado del algoritmo si no cambia la instancia mas cercana. A estas instancias se las llama \"support vectors\" y de ahi el nombre del algoritmo.\n",
        "\n",
        "## Hard margin classification\n",
        "Tal como explique recien, el algoritmo no permite que haya instancias que queden del lado incorrecto de la frontera entre clases. O sea, el clasificador debe lograr una clasificacion perfecta. Esto solo es posible cuando la division entre clases es lineal. En cualquier otro caso no se podra realizar. Aunque es algo deseable no siempre es posible.\n",
        "\n",
        "## Soft margin classification\n",
        "Una posible solucion para los problemas que no son separables linealmente es permitr que queden instancias \"del lado correcto\". A estas instancias las llamamos \"margin violations\" porque justamente violan la frontera encontrada. En general uno busca la minima cantidad de violaciones pero a su vez tratando de mantener la mayor generalizacion posible del algoritmo. En general las implementaciones de metodos SVM cuentan con un parametro que permite elegir entre estas dos situaciones, donde uno prefiere mas o menos cantidad de violaciones a la frontera. En Sklearn el hiperparametro que regula esto es $C$. Cuanto mas bajo es el valor de $C$ mas violaciones permitimos y cuanto mas alto, menos. El libro presenta un ejemplo de implementacion utilizando $LinearSVC$ de sklearn para el dataset de iris.\n",
        "\n"
      ]
    },
    {
      "cell_type": "code",
      "metadata": {
        "colab": {
          "base_uri": "https://localhost:8080/"
        },
        "id": "iG5v0QjdtfKl",
        "outputId": "66d60877-f443-4d28-dc07-41f84edc8b49"
      },
      "source": [
        "import numpy as np\n",
        "from sklearn import datasets\n",
        "from sklearn.pipeline import Pipeline\n",
        "from sklearn.preprocessing import StandardScaler\n",
        "from sklearn.svm import LinearSVC\n",
        "iris = datasets.load_iris()\n",
        "X = iris[\"data\"][:, (2, 3)] # petal length, petal width\n",
        "y = (iris[\"target\"] == 2).astype(np.float64) # Iris virginica\n",
        "svm_clf = Pipeline([\n",
        "(\"scaler\", StandardScaler()),\n",
        "(\"linear_svc\", LinearSVC(C=1, loss=\"hinge\")),\n",
        "])\n",
        "svm_clf.fit(X, y)"
      ],
      "execution_count": 4,
      "outputs": [
        {
          "output_type": "execute_result",
          "data": {
            "text/plain": [
              "Pipeline(memory=None,\n",
              "         steps=[('scaler',\n",
              "                 StandardScaler(copy=True, with_mean=True, with_std=True)),\n",
              "                ('linear_svc',\n",
              "                 LinearSVC(C=1, class_weight=None, dual=True,\n",
              "                           fit_intercept=True, intercept_scaling=1,\n",
              "                           loss='hinge', max_iter=1000, multi_class='ovr',\n",
              "                           penalty='l2', random_state=None, tol=0.0001,\n",
              "                           verbose=0))],\n",
              "         verbose=False)"
            ]
          },
          "metadata": {
            "tags": []
          },
          "execution_count": 4
        }
      ]
    },
    {
      "cell_type": "code",
      "metadata": {
        "colab": {
          "base_uri": "https://localhost:8080/",
          "height": 283
        },
        "id": "DNzoWDRrvJ9J",
        "outputId": "f5cddec3-7c04-4894-cb0f-2497ce765362"
      },
      "source": [
        "import matplotlib.pyplot as plt\n",
        "iris[\"target\"]\n",
        "import numpy as np\n",
        "import pandas as pd\n",
        "from sklearn.model_selection import train_test_split\n",
        "X_train, X_test, y_train, y_test = train_test_split(pd.DataFrame(X), pd.DataFrame(y), test_size=0.33, random_state=42)\n",
        "plt.scatter(X_train[0],X_train[1],c=y_train)\n"
      ],
      "execution_count": 6,
      "outputs": [
        {
          "output_type": "execute_result",
          "data": {
            "text/plain": [
              "<matplotlib.collections.PathCollection at 0x7f10f4a5bf50>"
            ]
          },
          "metadata": {
            "tags": []
          },
          "execution_count": 6
        },
        {
          "output_type": "display_data",
          "data": {
            "image/png": "[encoded data removed]",
            "text/plain": [
              "<Figure size 432x288 with 1 Axes>"
            ]
          },
          "metadata": {
            "tags": [],
            "needs_background": "light"
          }
        }
      ]
    }
  ]
}